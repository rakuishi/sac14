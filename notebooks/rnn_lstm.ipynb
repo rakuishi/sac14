{
 "cells": [
  {
   "cell_type": "code",
   "execution_count": 46,
   "metadata": {
    "collapsed": true
   },
   "outputs": [],
   "source": [
    "%matplotlib inline\n",
    "import sys,os\n",
    "sys.path.append(os.path.dirname(os.path.abspath('__file__')) + '/../')\n",
    "from sac14.btcusd import cryptowat\n",
    "from sac14.model import apply_min_max_scaler, create_dataset, create_rnn_model, create_lstm_model"
   ]
  },
  {
   "cell_type": "code",
   "execution_count": 47,
   "metadata": {},
   "outputs": [
    {
     "data": {
      "text/plain": [
       "<matplotlib.axes._subplots.AxesSubplot at 0x1a32c75828>"
      ]
     },
     "execution_count": 47,
     "metadata": {},
     "output_type": "execute_result"
    },
    {
     "data": {
      "image/png": "[encoded data removed]",
      "text/plain": [
       "<matplotlib.figure.Figure at 0x1a32ee5a90>"
      ]
     },
     "metadata": {},
     "output_type": "display_data"
    }
   ],
   "source": [
    "dataframe = cryptowat()\n",
    "# 障害があったため全 6000 データのうち前半 5000 のみ使用する\n",
    "dataframe = dataframe.head(5000)\n",
    "dataframe.plot()"
   ]
  },
  {
   "cell_type": "code",
   "execution_count": 48,
   "metadata": {
    "collapsed": true
   },
   "outputs": [],
   "source": [
    "dataset = dataframe.values.astype('float32')\n",
    "dataset, scaler = apply_min_max_scaler(dataset)\n",
    "train_size = int(len(dataset) * 0.67)\n",
    "test_size = len(dataset) - train_size\n",
    "train = dataset[0:train_size,:]\n",
    "test = dataset[train_size:len(dataset),:]"
   ]
  },
  {
   "cell_type": "code",
   "execution_count": 49,
   "metadata": {
    "collapsed": true
   },
   "outputs": [],
   "source": [
    "look_back = 3\n",
    "train_x, train_y = create_dataset(train, look_back)\n",
    "test_x, test_y = create_dataset(test, look_back)"
   ]
  },
  {
   "cell_type": "code",
   "execution_count": 50,
   "metadata": {},
   "outputs": [
    {
     "name": "stdout",
     "output_type": "stream",
     "text": [
      "Epoch 1/50\n",
      " - 5s - loss: 0.0056\n",
      "Epoch 2/50\n",
      " - 5s - loss: 2.6160e-04\n",
      "Epoch 3/50\n",
      " - 5s - loss: 2.2725e-04\n",
      "Epoch 4/50\n",
      " - 4s - loss: 1.8611e-04\n",
      "Epoch 5/50\n",
      " - 4s - loss: 1.7240e-04\n",
      "Epoch 6/50\n",
      " - 5s - loss: 1.6037e-04\n",
      "Epoch 7/50\n",
      " - 4s - loss: 1.6103e-04\n",
      "Epoch 8/50\n",
      " - 4s - loss: 1.4919e-04\n",
      "Epoch 9/50\n",
      " - 4s - loss: 1.4798e-04\n",
      "Epoch 10/50\n",
      " - 4s - loss: 1.4059e-04\n",
      "Epoch 11/50\n",
      " - 5s - loss: 1.3882e-04\n",
      "Epoch 12/50\n",
      " - 5s - loss: 1.4134e-04\n",
      "Epoch 13/50\n",
      " - 5s - loss: 1.4155e-04\n",
      "Epoch 14/50\n",
      " - 5s - loss: 1.4081e-04\n",
      "Epoch 15/50\n",
      " - 5s - loss: 1.4041e-04\n",
      "Epoch 16/50\n",
      " - 5s - loss: 1.3984e-04\n",
      "Epoch 17/50\n",
      " - 5s - loss: 1.3935e-04\n",
      "Epoch 18/50\n",
      " - 5s - loss: 1.3716e-04\n",
      "Epoch 19/50\n",
      " - 5s - loss: 1.3544e-04\n",
      "Epoch 20/50\n",
      " - 5s - loss: 1.3382e-04\n",
      "Epoch 21/50\n",
      " - 5s - loss: 1.3747e-04\n",
      "Epoch 22/50\n",
      " - 5s - loss: 1.3589e-04\n",
      "Epoch 23/50\n",
      " - 4s - loss: 1.3462e-04\n",
      "Epoch 24/50\n",
      " - 4s - loss: 1.3505e-04\n",
      "Epoch 25/50\n",
      " - 4s - loss: 1.3393e-04\n",
      "Epoch 26/50\n",
      " - 4s - loss: 1.3101e-04\n",
      "Epoch 27/50\n",
      " - 4s - loss: 1.3419e-04\n",
      "Epoch 28/50\n",
      " - 4s - loss: 1.3243e-04\n",
      "Epoch 29/50\n",
      " - 4s - loss: 1.3186e-04\n",
      "Epoch 30/50\n",
      " - 4s - loss: 1.3405e-04\n",
      "Epoch 31/50\n",
      " - 5s - loss: 1.3219e-04\n",
      "Epoch 32/50\n",
      " - 5s - loss: 1.2962e-04\n",
      "Epoch 33/50\n",
      " - 4s - loss: 1.3082e-04\n",
      "Epoch 34/50\n",
      " - 4s - loss: 1.3083e-04\n",
      "Epoch 35/50\n",
      " - 4s - loss: 1.2995e-04\n",
      "Epoch 36/50\n",
      " - 4s - loss: 1.2751e-04\n",
      "Epoch 37/50\n",
      " - 4s - loss: 1.3179e-04\n",
      "Epoch 38/50\n",
      " - 4s - loss: 1.3422e-04\n",
      "Epoch 39/50\n",
      " - 4s - loss: 1.2956e-04\n",
      "Epoch 40/50\n",
      " - 5s - loss: 1.2800e-04\n",
      "Epoch 41/50\n",
      " - 5s - loss: 1.3373e-04\n",
      "Epoch 42/50\n",
      " - 5s - loss: 1.3115e-04\n",
      "Epoch 43/50\n",
      " - 4s - loss: 1.2789e-04\n",
      "Epoch 44/50\n",
      " - 4s - loss: 1.2591e-04\n",
      "Epoch 45/50\n",
      " - 5s - loss: 1.2933e-04\n",
      "Epoch 46/50\n",
      " - 4s - loss: 1.2924e-04\n",
      "Epoch 47/50\n",
      " - 4s - loss: 1.2720e-04\n",
      "Epoch 48/50\n",
      " - 4s - loss: 1.2813e-04\n",
      "Epoch 49/50\n",
      " - 5s - loss: 1.2833e-04\n",
      "Epoch 50/50\n",
      " - 5s - loss: 1.2584e-04\n"
     ]
    },
    {
     "data": {
      "text/plain": [
       "<keras.callbacks.History at 0x1a32ee5128>"
      ]
     },
     "execution_count": 50,
     "metadata": {},
     "output_type": "execute_result"
    }
   ],
   "source": [
    "rnn_model = create_rnn_model(look_back)\n",
    "rnn_model.fit(train_x, train_y, epochs=50, batch_size=1, verbose=2)"
   ]
  },
  {
   "cell_type": "code",
   "execution_count": 51,
   "metadata": {},
   "outputs": [
    {
     "name": "stdout",
     "output_type": "stream",
     "text": [
      "Epoch 1/50\n",
      " - 12s - loss: 0.0189\n",
      "Epoch 2/50\n",
      " - 11s - loss: 1.8452e-04\n",
      "Epoch 3/50\n",
      " - 11s - loss: 1.9157e-04\n",
      "Epoch 4/50\n",
      " - 11s - loss: 1.9123e-04\n",
      "Epoch 5/50\n",
      " - 10s - loss: 1.9000e-04\n",
      "Epoch 6/50\n",
      " - 11s - loss: 1.8710e-04\n",
      "Epoch 7/50\n",
      " - 10s - loss: 1.8062e-04\n",
      "Epoch 8/50\n",
      " - 11s - loss: 1.8592e-04\n",
      "Epoch 9/50\n",
      " - 11s - loss: 1.7733e-04\n",
      "Epoch 10/50\n",
      " - 10s - loss: 1.7799e-04\n",
      "Epoch 11/50\n",
      " - 11s - loss: 1.7060e-04\n",
      "Epoch 12/50\n",
      " - 11s - loss: 1.6637e-04\n",
      "Epoch 13/50\n",
      " - 12s - loss: 1.5930e-04\n",
      "Epoch 14/50\n",
      " - 12s - loss: 1.5354e-04\n",
      "Epoch 15/50\n",
      " - 12s - loss: 1.5176e-04\n",
      "Epoch 16/50\n",
      " - 12s - loss: 1.4420e-04\n",
      "Epoch 17/50\n",
      " - 12s - loss: 1.3724e-04\n",
      "Epoch 18/50\n",
      " - 11s - loss: 1.3556e-04\n",
      "Epoch 19/50\n",
      " - 12s - loss: 1.3576e-04\n",
      "Epoch 20/50\n",
      " - 12s - loss: 1.3343e-04\n",
      "Epoch 21/50\n",
      " - 12s - loss: 1.3101e-04\n",
      "Epoch 22/50\n",
      " - 12s - loss: 1.3141e-04\n",
      "Epoch 23/50\n",
      " - 12s - loss: 1.2784e-04\n",
      "Epoch 24/50\n",
      " - 12s - loss: 1.2942e-04\n",
      "Epoch 25/50\n",
      " - 12s - loss: 1.2856e-04\n",
      "Epoch 26/50\n",
      " - 12s - loss: 1.2880e-04\n",
      "Epoch 27/50\n",
      " - 12s - loss: 1.2870e-04\n",
      "Epoch 28/50\n",
      " - 12s - loss: 1.2944e-04\n",
      "Epoch 29/50\n",
      " - 12s - loss: 1.2640e-04\n",
      "Epoch 30/50\n",
      " - 12s - loss: 1.2839e-04\n",
      "Epoch 31/50\n",
      " - 12s - loss: 1.2446e-04\n",
      "Epoch 32/50\n",
      " - 12s - loss: 1.2388e-04\n",
      "Epoch 33/50\n",
      " - 12s - loss: 1.2376e-04\n",
      "Epoch 34/50\n",
      " - 12s - loss: 1.2632e-04\n",
      "Epoch 35/50\n",
      " - 12s - loss: 1.2286e-04\n",
      "Epoch 36/50\n",
      " - 12s - loss: 1.2479e-04\n",
      "Epoch 37/50\n",
      " - 12s - loss: 1.2255e-04\n",
      "Epoch 38/50\n",
      " - 12s - loss: 1.2212e-04\n",
      "Epoch 39/50\n",
      " - 12s - loss: 1.2441e-04\n",
      "Epoch 40/50\n",
      " - 12s - loss: 1.2060e-04\n",
      "Epoch 41/50\n",
      " - 12s - loss: 1.2466e-04\n",
      "Epoch 42/50\n",
      " - 12s - loss: 1.2333e-04\n",
      "Epoch 43/50\n",
      " - 12s - loss: 1.2366e-04\n",
      "Epoch 44/50\n",
      " - 12s - loss: 1.2081e-04\n",
      "Epoch 45/50\n",
      " - 12s - loss: 1.2117e-04\n",
      "Epoch 46/50\n",
      " - 12s - loss: 1.1954e-04\n",
      "Epoch 47/50\n",
      " - 12s - loss: 1.2150e-04\n",
      "Epoch 48/50\n",
      " - 12s - loss: 1.2098e-04\n",
      "Epoch 49/50\n",
      " - 11s - loss: 1.1894e-04\n",
      "Epoch 50/50\n",
      " - 11s - loss: 1.1984e-04\n"
     ]
    },
    {
     "data": {
      "text/plain": [
       "<keras.callbacks.History at 0x1a33d00b00>"
      ]
     },
     "execution_count": 51,
     "metadata": {},
     "output_type": "execute_result"
    }
   ],
   "source": [
    "lstm_model = create_lstm_model(look_back)\n",
    "lstm_model.fit(train_x, train_y, epochs=50, batch_size=1, verbose=2)"
   ]
  },
  {
   "cell_type": "code",
   "execution_count": 52,
   "metadata": {},
   "outputs": [
    {
     "name": "stdout",
     "output_type": "stream",
     "text": [
      "RNN Test RMSE: 18.02\n",
      "LSTM Test RMSE: 66.93\n"
     ]
    }
   ],
   "source": [
    "# 平均二乗誤差のルートで評価\n",
    "\n",
    "import math\n",
    "from sklearn.metrics import mean_squared_error\n",
    "\n",
    "test_y_inv = scaler.inverse_transform([test_y])\n",
    "\n",
    "rnn_test_predict = rnn_model.predict(test_x)\n",
    "rnn_test_predict_inv = scaler.inverse_transform(rnn_test_predict)\n",
    "rnn_test_score = math.sqrt(mean_squared_error(test_y_inv[0], rnn_test_predict_inv[:,0]))\n",
    "print('RNN Test RMSE: %.2f' % (rnn_test_score))\n",
    "\n",
    "lstm_test_predict = lstm_model.predict(test_x)\n",
    "lstm_test_predict_inv = scaler.inverse_transform(lstm_test_predict)\n",
    "lstm_test_score = math.sqrt(mean_squared_error(test_y_inv[0], lstm_test_predict_inv[:,0]))\n",
    "print('LSTM Test RMSE: %.2f' % (lstm_test_score))"
   ]
  },
  {
   "cell_type": "code",
   "execution_count": 56,
   "metadata": {},
   "outputs": [
    {
     "data": {
      "image/png": "[encoded data removed]",
      "text/plain": [
       "<matplotlib.figure.Figure at 0x1a30cc16d8>"
      ]
     },
     "metadata": {},
     "output_type": "display_data"
    }
   ],
   "source": [
    "import matplotlib.pyplot as plt\n",
    "import numpy as np\n",
    "\n",
    "# test.shape => (1650, 1)\n",
    "# rnn_test_predict_inv.shape => (1647, 1)\n",
    "# lstm_test_predict_inv.shape => (1647, 1)\n",
    "\n",
    "test_plot = scaler.inverse_transform(test)\n",
    "\n",
    "rnn_test_predict_plot = np.empty_like(test)\n",
    "rnn_test_predict_plot[:, :] = np.nan\n",
    "rnn_test_predict_plot[look_back:len(rnn_test_predict_inv)+look_back, :] = rnn_test_predict_inv\n",
    "\n",
    "lstm_test_predict_plot = np.empty_like(test)\n",
    "lstm_test_predict_plot[:, :] = np.nan\n",
    "lstm_test_predict_plot[look_back:len(lstm_test_predict_inv)+look_back, :] = lstm_test_predict_inv\n",
    "\n",
    "plt.plot(test_plot, label='Dataset')\n",
    "plt.plot(rnn_test_predict_plot, label='Prediction RNN')\n",
    "plt.plot(lstm_test_predict_plot, label='Prediction LSTM')\n",
    "plt.legend()\n",
    "plt.show()"
   ]
  }
 ],
 "metadata": {
  "kernelspec": {
   "display_name": "Python 3",
   "language": "python",
   "name": "python3"
  },
  "language_info": {
   "codemirror_mode": {
    "name": "ipython",
    "version": 3
   },
   "file_extension": ".py",
   "mimetype": "text/x-python",
   "name": "python",
   "nbconvert_exporter": "python",
   "pygments_lexer": "ipython3",
   "version": "3.6.3"
  }
 },
 "nbformat": 4,
 "nbformat_minor": 2
}
