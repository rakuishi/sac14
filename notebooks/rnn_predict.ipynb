{
 "cells": [
  {
   "cell_type": "code",
   "execution_count": 170,
   "metadata": {
    "collapsed": true
   },
   "outputs": [],
   "source": [
    "%matplotlib inline\n",
    "import sys,os\n",
    "sys.path.append(os.path.dirname(os.path.abspath('__file__')) + '/../')\n",
    "from sac14.btcusd import bitmex\n",
    "\n",
    "dataframe = bitmex()"
   ]
  },
  {
   "cell_type": "code",
   "execution_count": 171,
   "metadata": {
    "scrolled": true
   },
   "outputs": [],
   "source": [
    "# 実際の運用モデルを考慮して、データを分ける\n",
    "# train_dataframe: 運用開始前に学習するデータ\n",
    "# dataframe: 運用中に取得できるデータ\n",
    "train_dataframe = dataframe.head(1900)"
   ]
  },
  {
   "cell_type": "code",
   "execution_count": 172,
   "metadata": {},
   "outputs": [
    {
     "name": "stdout",
     "output_type": "stream",
     "text": [
      "Epoch 1/100\n",
      " - 3s - loss: 0.0034\n",
      "Epoch 2/100\n",
      " - 3s - loss: 5.6666e-04\n",
      "Epoch 3/100\n",
      " - 3s - loss: 5.4393e-04\n",
      "Epoch 4/100\n",
      " - 3s - loss: 5.4123e-04\n",
      "Epoch 5/100\n",
      " - 3s - loss: 4.8378e-04\n",
      "Epoch 6/100\n",
      " - 3s - loss: 4.5838e-04\n",
      "Epoch 7/100\n",
      " - 3s - loss: 4.6227e-04\n",
      "Epoch 8/100\n",
      " - 3s - loss: 4.6584e-04\n",
      "Epoch 9/100\n",
      " - 3s - loss: 4.5514e-04\n",
      "Epoch 10/100\n",
      " - 3s - loss: 4.5617e-04\n",
      "Epoch 11/100\n",
      " - 3s - loss: 4.3451e-04\n",
      "Epoch 12/100\n",
      " - 3s - loss: 4.5200e-04\n",
      "Epoch 13/100\n",
      " - 3s - loss: 4.0948e-04\n",
      "Epoch 14/100\n",
      " - 3s - loss: 4.4469e-04\n",
      "Epoch 15/100\n",
      " - 3s - loss: 4.3197e-04\n",
      "Epoch 16/100\n",
      " - 3s - loss: 4.2445e-04\n",
      "Epoch 17/100\n",
      " - 3s - loss: 4.0059e-04\n",
      "Epoch 18/100\n",
      " - 3s - loss: 4.3134e-04\n",
      "Epoch 19/100\n",
      " - 3s - loss: 4.2247e-04\n",
      "Epoch 20/100\n",
      " - 3s - loss: 4.1482e-04\n",
      "Epoch 21/100\n",
      " - 3s - loss: 4.1175e-04\n",
      "Epoch 22/100\n",
      " - 3s - loss: 4.1379e-04\n",
      "Epoch 23/100\n",
      " - 3s - loss: 4.1690e-04\n",
      "Epoch 24/100\n",
      " - 3s - loss: 4.0493e-04\n",
      "Epoch 25/100\n",
      " - 3s - loss: 3.9746e-04\n",
      "Epoch 26/100\n",
      " - 3s - loss: 4.0460e-04\n",
      "Epoch 27/100\n",
      " - 3s - loss: 3.9977e-04\n",
      "Epoch 28/100\n",
      " - 3s - loss: 4.0429e-04\n",
      "Epoch 29/100\n",
      " - 3s - loss: 4.0273e-04\n",
      "Epoch 30/100\n",
      " - 3s - loss: 4.1485e-04\n",
      "Epoch 31/100\n",
      " - 3s - loss: 3.9511e-04\n",
      "Epoch 32/100\n",
      " - 3s - loss: 3.9880e-04\n",
      "Epoch 33/100\n",
      " - 3s - loss: 4.1205e-04\n",
      "Epoch 34/100\n",
      " - 3s - loss: 3.9085e-04\n",
      "Epoch 35/100\n",
      " - 3s - loss: 3.9751e-04\n",
      "Epoch 36/100\n",
      " - 3s - loss: 4.0098e-04\n",
      "Epoch 37/100\n",
      " - 3s - loss: 3.9427e-04\n",
      "Epoch 38/100\n",
      " - 3s - loss: 4.0057e-04\n",
      "Epoch 39/100\n",
      " - 3s - loss: 3.9938e-04\n",
      "Epoch 40/100\n",
      " - 3s - loss: 3.9353e-04\n",
      "Epoch 41/100\n",
      " - 3s - loss: 4.0622e-04\n",
      "Epoch 42/100\n",
      " - 3s - loss: 4.0336e-04\n",
      "Epoch 43/100\n",
      " - 3s - loss: 4.0284e-04\n",
      "Epoch 44/100\n",
      " - 3s - loss: 3.9485e-04\n",
      "Epoch 45/100\n",
      " - 3s - loss: 3.9540e-04\n",
      "Epoch 46/100\n",
      " - 3s - loss: 3.8870e-04\n",
      "Epoch 47/100\n",
      " - 3s - loss: 3.8976e-04\n",
      "Epoch 48/100\n",
      " - 3s - loss: 3.8957e-04\n",
      "Epoch 49/100\n",
      " - 3s - loss: 3.9208e-04\n",
      "Epoch 50/100\n",
      " - 3s - loss: 3.9679e-04\n",
      "Epoch 51/100\n",
      " - 3s - loss: 3.8957e-04\n",
      "Epoch 52/100\n",
      " - 3s - loss: 3.8844e-04\n",
      "Epoch 53/100\n",
      " - 3s - loss: 3.9424e-04\n",
      "Epoch 54/100\n",
      " - 3s - loss: 3.8893e-04\n",
      "Epoch 55/100\n",
      " - 3s - loss: 3.8776e-04\n",
      "Epoch 56/100\n",
      " - 3s - loss: 3.9168e-04\n",
      "Epoch 57/100\n",
      " - 3s - loss: 3.9401e-04\n",
      "Epoch 58/100\n",
      " - 3s - loss: 3.8715e-04\n",
      "Epoch 59/100\n",
      " - 3s - loss: 3.9334e-04\n",
      "Epoch 60/100\n",
      " - 3s - loss: 3.8897e-04\n",
      "Epoch 61/100\n",
      " - 3s - loss: 3.8383e-04\n",
      "Epoch 62/100\n",
      " - 3s - loss: 4.0243e-04\n",
      "Epoch 63/100\n",
      " - 3s - loss: 3.8030e-04\n",
      "Epoch 64/100\n",
      " - 3s - loss: 3.8998e-04\n",
      "Epoch 65/100\n",
      " - 3s - loss: 3.8055e-04\n",
      "Epoch 66/100\n",
      " - 3s - loss: 4.0294e-04\n",
      "Epoch 67/100\n",
      " - 3s - loss: 3.9861e-04\n",
      "Epoch 68/100\n",
      " - 3s - loss: 3.8658e-04\n",
      "Epoch 69/100\n",
      " - 3s - loss: 3.7604e-04\n",
      "Epoch 70/100\n",
      " - 3s - loss: 3.8988e-04\n",
      "Epoch 71/100\n",
      " - 3s - loss: 3.9167e-04\n",
      "Epoch 72/100\n",
      " - 3s - loss: 3.8396e-04\n",
      "Epoch 73/100\n",
      " - 3s - loss: 3.7774e-04\n",
      "Epoch 74/100\n",
      " - 3s - loss: 3.9734e-04\n",
      "Epoch 75/100\n",
      " - 3s - loss: 3.8779e-04\n",
      "Epoch 76/100\n",
      " - 3s - loss: 3.8170e-04\n",
      "Epoch 77/100\n",
      " - 3s - loss: 3.8951e-04\n",
      "Epoch 78/100\n",
      " - 3s - loss: 3.8043e-04\n",
      "Epoch 79/100\n",
      " - 3s - loss: 3.8328e-04\n",
      "Epoch 80/100\n",
      " - 3s - loss: 3.9677e-04\n",
      "Epoch 81/100\n",
      " - 3s - loss: 3.8986e-04\n",
      "Epoch 82/100\n",
      " - 3s - loss: 3.8537e-04\n",
      "Epoch 83/100\n",
      " - 3s - loss: 3.7996e-04\n",
      "Epoch 84/100\n",
      " - 3s - loss: 3.7565e-04\n",
      "Epoch 85/100\n",
      " - 3s - loss: 3.7948e-04\n",
      "Epoch 86/100\n",
      " - 3s - loss: 3.8351e-04\n",
      "Epoch 87/100\n",
      " - 3s - loss: 3.8290e-04\n",
      "Epoch 88/100\n",
      " - 3s - loss: 3.8582e-04\n",
      "Epoch 89/100\n",
      " - 3s - loss: 3.8329e-04\n",
      "Epoch 90/100\n",
      " - 3s - loss: 3.9536e-04\n",
      "Epoch 91/100\n",
      " - 3s - loss: 3.8333e-04\n",
      "Epoch 92/100\n",
      " - 3s - loss: 3.7468e-04\n",
      "Epoch 93/100\n",
      " - 3s - loss: 3.7906e-04\n",
      "Epoch 94/100\n",
      " - 3s - loss: 3.7664e-04\n",
      "Epoch 95/100\n",
      " - 3s - loss: 3.8126e-04\n",
      "Epoch 96/100\n",
      " - 3s - loss: 3.8553e-04\n",
      "Epoch 97/100\n",
      " - 3s - loss: 3.7558e-04\n",
      "Epoch 98/100\n",
      " - 3s - loss: 3.8519e-04\n",
      "Epoch 99/100\n",
      " - 3s - loss: 3.8904e-04\n",
      "Epoch 100/100\n",
      " - 3s - loss: 3.8542e-04\n"
     ]
    },
    {
     "data": {
      "text/plain": [
       "<keras.callbacks.History at 0x1a2e4aa8d0>"
      ]
     },
     "execution_count": 172,
     "metadata": {},
     "output_type": "execute_result"
    }
   ],
   "source": [
    "from sac14.model import apply_min_max_scaler, create_dataset, create_rnn_model, create_lstm_model\n",
    "\n",
    "look_back = 3\n",
    "train_dataset = train_dataframe.values.astype('float32')\n",
    "train_dataset, scaler = apply_min_max_scaler(train_dataset)\n",
    "train_x, train_y = create_dataset(train_dataset, look_back)\n",
    "model = create_rnn_model(look_back)\n",
    "model.fit(train_x, train_y, epochs=100, batch_size=1, verbose=2)"
   ]
  },
  {
   "cell_type": "code",
   "execution_count": 173,
   "metadata": {},
   "outputs": [
    {
     "data": {
      "text/plain": [
       "(1521226500, 1899)"
      ]
     },
     "execution_count": 173,
     "metadata": {},
     "output_type": "execute_result"
    }
   ],
   "source": [
    "# 学習データに使用した最後のインデックスから、実践データをパースする\n",
    "train_last_index = train_dataframe.tail(1).index.values[0]\n",
    "location = dataframe.index.get_loc(train_last_index)\n",
    "train_last_index, location"
   ]
  },
  {
   "cell_type": "code",
   "execution_count": 174,
   "metadata": {},
   "outputs": [
    {
     "data": {
      "text/plain": [
       "(120, 1)"
      ]
     },
     "execution_count": 174,
     "metadata": {},
     "output_type": "execute_result"
    }
   ],
   "source": [
    "# 使用する実践データは最低 look_back 分のデータを含ませ、学習した直後でも計算に使えるようにする\n",
    "future_dataframe = dataframe.iloc[location-(look_back-1):,:]\n",
    "future_dataframe.shape"
   ]
  },
  {
   "cell_type": "code",
   "execution_count": 175,
   "metadata": {
    "scrolled": true
   },
   "outputs": [
    {
     "data": {
      "text/html": [
       "<div>\n",
       "<style>\n",
       "    .dataframe thead tr:only-child th {\n",
       "        text-align: right;\n",
       "    }\n",
       "\n",
       "    .dataframe thead th {\n",
       "        text-align: left;\n",
       "    }\n",
       "\n",
       "    .dataframe tbody tr th {\n",
       "        vertical-align: top;\n",
       "    }\n",
       "</style>\n",
       "<table border=\"1\" class=\"dataframe\">\n",
       "  <thead>\n",
       "    <tr style=\"text-align: right;\">\n",
       "      <th></th>\n",
       "      <th>c</th>\n",
       "    </tr>\n",
       "    <tr>\n",
       "      <th>t</th>\n",
       "      <th></th>\n",
       "    </tr>\n",
       "  </thead>\n",
       "  <tbody>\n",
       "    <tr>\n",
       "      <th>1521225900</th>\n",
       "      <td>8524.5</td>\n",
       "    </tr>\n",
       "    <tr>\n",
       "      <th>1521226200</th>\n",
       "      <td>8515.0</td>\n",
       "    </tr>\n",
       "    <tr>\n",
       "      <th>1521226500</th>\n",
       "      <td>8523.5</td>\n",
       "    </tr>\n",
       "    <tr>\n",
       "      <th>1521226800</th>\n",
       "      <td>8536.5</td>\n",
       "    </tr>\n",
       "    <tr>\n",
       "      <th>1521227100</th>\n",
       "      <td>8531.0</td>\n",
       "    </tr>\n",
       "    <tr>\n",
       "      <th>1521227400</th>\n",
       "      <td>8520.0</td>\n",
       "    </tr>\n",
       "    <tr>\n",
       "      <th>1521227700</th>\n",
       "      <td>8516.0</td>\n",
       "    </tr>\n",
       "    <tr>\n",
       "      <th>1521228000</th>\n",
       "      <td>8528.5</td>\n",
       "    </tr>\n",
       "    <tr>\n",
       "      <th>1521228300</th>\n",
       "      <td>8546.5</td>\n",
       "    </tr>\n",
       "    <tr>\n",
       "      <th>1521228600</th>\n",
       "      <td>8556.5</td>\n",
       "    </tr>\n",
       "  </tbody>\n",
       "</table>\n",
       "</div>"
      ],
      "text/plain": [
       "                 c\n",
       "t                 \n",
       "1521225900  8524.5\n",
       "1521226200  8515.0\n",
       "1521226500  8523.5\n",
       "1521226800  8536.5\n",
       "1521227100  8531.0\n",
       "1521227400  8520.0\n",
       "1521227700  8516.0\n",
       "1521228000  8528.5\n",
       "1521228300  8546.5\n",
       "1521228600  8556.5"
      ]
     },
     "execution_count": 175,
     "metadata": {},
     "output_type": "execute_result"
    }
   ],
   "source": [
    "future_dataframe.head(10)"
   ]
  },
  {
   "cell_type": "code",
   "execution_count": 176,
   "metadata": {},
   "outputs": [
    {
     "data": {
      "text/plain": [
       "((117, 3, 1), (117,))"
      ]
     },
     "execution_count": 176,
     "metadata": {},
     "output_type": "execute_result"
    }
   ],
   "source": [
    "dataset = future_dataframe.values.astype('float32')\n",
    "dataset = scaler.fit_transform(dataset)\n",
    "data_x, data_y = create_dataset(dataset, look_back)\n",
    "data_x.shape, data_y.shape"
   ]
  },
  {
   "cell_type": "code",
   "execution_count": 177,
   "metadata": {},
   "outputs": [
    {
     "data": {
      "text/plain": [
       "array([[[ 0.89051056],\n",
       "        [ 0.87069893],\n",
       "        [ 0.88842583]],\n",
       "\n",
       "       [[ 0.87069893],\n",
       "        [ 0.88842583],\n",
       "        [ 0.91553688]],\n",
       "\n",
       "       [[ 0.88842583],\n",
       "        [ 0.91553688],\n",
       "        [ 0.90406799]]], dtype=float32)"
      ]
     },
     "execution_count": 177,
     "metadata": {},
     "output_type": "execute_result"
    }
   ],
   "source": [
    "data_x[0:3]"
   ]
  },
  {
   "cell_type": "code",
   "execution_count": 191,
   "metadata": {},
   "outputs": [
    {
     "data": {
      "text/plain": [
       "array([[ 8524.38671875],\n",
       "       [ 8535.42871094],\n",
       "       [ 8530.23730469],\n",
       "       [ 8521.08007812],\n",
       "       [ 8517.49902344],\n",
       "       [ 8528.70800781],\n",
       "       [ 8544.50488281],\n",
       "       [ 8553.70898438],\n",
       "       [ 8569.98632812],\n",
       "       [ 8573.08496094]], dtype=float32)"
      ]
     },
     "execution_count": 191,
     "metadata": {},
     "output_type": "execute_result"
    }
   ],
   "source": [
    "prediction = model.predict(data_x[0:10])\n",
    "prediction_inv = scaler.inverse_transform(prediction)\n",
    "prediction_inv"
   ]
  },
  {
   "cell_type": "code",
   "execution_count": 190,
   "metadata": {},
   "outputs": [
    {
     "data": {
      "text/plain": [
       "array([[ 8536.49977789,  8531.00044646,  8519.99995445,  8515.99960925,\n",
       "         8528.50000207,  8546.49972631,  8556.49967473,  8573.49976996,\n",
       "         8576.99984337,  8569.00006754]])"
      ]
     },
     "execution_count": 190,
     "metadata": {},
     "output_type": "execute_result"
    }
   ],
   "source": [
    "scaler.inverse_transform([data_y])[:, 0:10]"
   ]
  },
  {
   "cell_type": "code",
   "execution_count": 180,
   "metadata": {},
   "outputs": [
    {
     "data": {
      "image/png": "[encoded data removed]",
      "text/plain": [
       "<matplotlib.figure.Figure at 0x1a2ed8b8d0>"
      ]
     },
     "metadata": {},
     "output_type": "display_data"
    }
   ],
   "source": [
    "import matplotlib.pyplot as plt\n",
    "import numpy as np\n",
    "\n",
    "predict = model.predict(data_x)\n",
    "predict_inv = scaler.inverse_transform(predict)\n",
    "predict_plot = np.empty_like(dataset)\n",
    "predict_plot[:, :] = np.nan\n",
    "predict_plot[look_back:, :] = predict_inv\n",
    "\n",
    "plt.plot(scaler.inverse_transform(dataset), label='Dataset')\n",
    "plt.plot(predict_plot, label='Prediction')\n",
    "plt.legend()\n",
    "plt.show()"
   ]
  }
 ],
 "metadata": {
  "kernelspec": {
   "display_name": "Python 3",
   "language": "python",
   "name": "python3"
  },
  "language_info": {
   "codemirror_mode": {
    "name": "ipython",
    "version": 3
   },
   "file_extension": ".py",
   "mimetype": "text/x-python",
   "name": "python",
   "nbconvert_exporter": "python",
   "pygments_lexer": "ipython3",
   "version": "3.6.3"
  }
 },
 "nbformat": 4,
 "nbformat_minor": 2
}
