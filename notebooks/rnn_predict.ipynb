{
 "cells": [
  {
   "cell_type": "code",
   "execution_count": 1,
   "metadata": {},
   "outputs": [],
   "source": [
    "%matplotlib inline\n",
    "import sys,os\n",
    "sys.path.append(os.path.dirname(os.path.abspath('__file__')) + '/../')\n",
    "from sac14.btcusd import bitmex\n",
    "\n",
    "dataframe = bitmex()"
   ]
  },
  {
   "cell_type": "code",
   "execution_count": 2,
   "metadata": {
    "collapsed": true,
    "scrolled": true
   },
   "outputs": [],
   "source": [
    "# 実際の運用モデルを考慮して、データを分ける\n",
    "# train_dataframe: 運用開始前に学習するデータ\n",
    "# dataframe: 運用中に取得できるデータ\n",
    "train_dataframe = dataframe.head(1900)"
   ]
  },
  {
   "cell_type": "code",
   "execution_count": 3,
   "metadata": {},
   "outputs": [
    {
     "name": "stderr",
     "output_type": "stream",
     "text": [
      "Using TensorFlow backend.\n"
     ]
    },
    {
     "data": {
      "text/plain": [
       "array([[[ 0.78799868],\n",
       "        [ 0.7831254 ],\n",
       "        [ 0.75205612]],\n",
       "\n",
       "       [[ 0.7831254 ],\n",
       "        [ 0.75205612],\n",
       "        [ 0.77246428]],\n",
       "\n",
       "       [[ 0.75205612],\n",
       "        [ 0.77246428],\n",
       "        [ 0.77581501]],\n",
       "\n",
       "       ..., \n",
       "       [[ 0.96497107],\n",
       "        [ 0.97441387],\n",
       "        [ 0.96497107]],\n",
       "\n",
       "       [[ 0.97441387],\n",
       "        [ 0.96497107],\n",
       "        [ 0.9680171 ]],\n",
       "\n",
       "       [[ 0.96497107],\n",
       "        [ 0.9680171 ],\n",
       "        [ 0.96923542]]], dtype=float32)"
      ]
     },
     "execution_count": 3,
     "metadata": {},
     "output_type": "execute_result"
    }
   ],
   "source": [
    "from sac14.model import apply_min_max_scaler, create_dataset, create_data, create_rnn_model, create_lstm_model\n",
    "\n",
    "look_back = 3\n",
    "train_dataset = train_dataframe.values.astype('float32')\n",
    "train_dataset, scaler = apply_min_max_scaler(train_dataset)\n",
    "train_x, train_y = create_dataset(train_dataset, look_back)\n",
    "train_x"
   ]
  },
  {
   "cell_type": "code",
   "execution_count": 4,
   "metadata": {},
   "outputs": [
    {
     "data": {
      "text/plain": [
       "array([ 0.77246428,  0.77581501,  0.76789522, ...,  0.9680171 ,\n",
       "        0.96923542,  0.97502279], dtype=float32)"
      ]
     },
     "execution_count": 4,
     "metadata": {},
     "output_type": "execute_result"
    }
   ],
   "source": [
    "train_y"
   ]
  },
  {
   "cell_type": "code",
   "execution_count": 5,
   "metadata": {
    "scrolled": true
   },
   "outputs": [
    {
     "name": "stdout",
     "output_type": "stream",
     "text": [
      "Epoch 1/10\n",
      " - 3s - loss: 0.0049\n",
      "Epoch 2/10\n",
      " - 3s - loss: 5.5515e-04\n",
      "Epoch 3/10\n",
      " - 3s - loss: 5.7988e-04\n",
      "Epoch 4/10\n",
      " - 3s - loss: 5.3741e-04\n",
      "Epoch 5/10\n",
      " - 3s - loss: 5.3749e-04\n",
      "Epoch 6/10\n",
      " - 3s - loss: 5.3629e-04\n",
      "Epoch 7/10\n",
      " - 3s - loss: 4.8899e-04\n",
      "Epoch 8/10\n",
      " - 3s - loss: 5.1740e-04\n",
      "Epoch 9/10\n",
      " - 3s - loss: 4.8502e-04\n",
      "Epoch 10/10\n",
      " - 3s - loss: 4.9296e-04\n"
     ]
    },
    {
     "data": {
      "text/plain": [
       "<keras.callbacks.History at 0x1a1da5bb00>"
      ]
     },
     "execution_count": 5,
     "metadata": {},
     "output_type": "execute_result"
    }
   ],
   "source": [
    "model = create_rnn_model(look_back)\n",
    "model.fit(train_x, train_y, epochs=10, batch_size=1, verbose=2)"
   ]
  },
  {
   "cell_type": "code",
   "execution_count": 6,
   "metadata": {},
   "outputs": [
    {
     "data": {
      "text/plain": [
       "(1521602700, 1899)"
      ]
     },
     "execution_count": 6,
     "metadata": {},
     "output_type": "execute_result"
    }
   ],
   "source": [
    "# 学習データに使用した最後のインデックスから、実践データをパースする\n",
    "train_last_index = train_dataframe.tail(1).index.values[0]\n",
    "location = dataframe.index.get_loc(train_last_index)\n",
    "train_last_index, location"
   ]
  },
  {
   "cell_type": "code",
   "execution_count": 7,
   "metadata": {},
   "outputs": [
    {
     "data": {
      "text/plain": [
       "(120, 1)"
      ]
     },
     "execution_count": 7,
     "metadata": {},
     "output_type": "execute_result"
    }
   ],
   "source": [
    "# 使用する実践データは最低 look_back 分のデータを含ませ、学習した直後でも計算に使えるようにする\n",
    "future_dataframe = dataframe.iloc[location-(look_back-1):,:]\n",
    "future_dataframe.shape"
   ]
  },
  {
   "cell_type": "code",
   "execution_count": 8,
   "metadata": {
    "scrolled": true
   },
   "outputs": [
    {
     "data": {
      "text/html": [
       "<div>\n",
       "<style>\n",
       "    .dataframe thead tr:only-child th {\n",
       "        text-align: right;\n",
       "    }\n",
       "\n",
       "    .dataframe thead th {\n",
       "        text-align: left;\n",
       "    }\n",
       "\n",
       "    .dataframe tbody tr th {\n",
       "        vertical-align: top;\n",
       "    }\n",
       "</style>\n",
       "<table border=\"1\" class=\"dataframe\">\n",
       "  <thead>\n",
       "    <tr style=\"text-align: right;\">\n",
       "      <th></th>\n",
       "      <th>c</th>\n",
       "    </tr>\n",
       "    <tr>\n",
       "      <th>t</th>\n",
       "      <th></th>\n",
       "    </tr>\n",
       "  </thead>\n",
       "  <tbody>\n",
       "    <tr>\n",
       "      <th>1521602100</th>\n",
       "      <td>8944.5</td>\n",
       "    </tr>\n",
       "    <tr>\n",
       "      <th>1521602400</th>\n",
       "      <td>8946.5</td>\n",
       "    </tr>\n",
       "    <tr>\n",
       "      <th>1521602700</th>\n",
       "      <td>8956.0</td>\n",
       "    </tr>\n",
       "    <tr>\n",
       "      <th>1521603000</th>\n",
       "      <td>8953.0</td>\n",
       "    </tr>\n",
       "    <tr>\n",
       "      <th>1521603300</th>\n",
       "      <td>8954.5</td>\n",
       "    </tr>\n",
       "  </tbody>\n",
       "</table>\n",
       "</div>"
      ],
      "text/plain": [
       "                 c\n",
       "t                 \n",
       "1521602100  8944.5\n",
       "1521602400  8946.5\n",
       "1521602700  8956.0\n",
       "1521603000  8953.0\n",
       "1521603300  8954.5"
      ]
     },
     "execution_count": 8,
     "metadata": {},
     "output_type": "execute_result"
    }
   ],
   "source": [
    "future_dataframe.head(5)"
   ]
  },
  {
   "cell_type": "code",
   "execution_count": 9,
   "metadata": {},
   "outputs": [
    {
     "data": {
      "text/html": [
       "<div>\n",
       "<style>\n",
       "    .dataframe thead tr:only-child th {\n",
       "        text-align: right;\n",
       "    }\n",
       "\n",
       "    .dataframe thead th {\n",
       "        text-align: left;\n",
       "    }\n",
       "\n",
       "    .dataframe tbody tr th {\n",
       "        vertical-align: top;\n",
       "    }\n",
       "</style>\n",
       "<table border=\"1\" class=\"dataframe\">\n",
       "  <thead>\n",
       "    <tr style=\"text-align: right;\">\n",
       "      <th></th>\n",
       "      <th>c</th>\n",
       "    </tr>\n",
       "    <tr>\n",
       "      <th>t</th>\n",
       "      <th></th>\n",
       "    </tr>\n",
       "  </thead>\n",
       "  <tbody>\n",
       "    <tr>\n",
       "      <th>1521636600</th>\n",
       "      <td>9002.5</td>\n",
       "    </tr>\n",
       "    <tr>\n",
       "      <th>1521636900</th>\n",
       "      <td>9014.0</td>\n",
       "    </tr>\n",
       "    <tr>\n",
       "      <th>1521637200</th>\n",
       "      <td>9023.5</td>\n",
       "    </tr>\n",
       "    <tr>\n",
       "      <th>1521637500</th>\n",
       "      <td>9039.0</td>\n",
       "    </tr>\n",
       "    <tr>\n",
       "      <th>1521637800</th>\n",
       "      <td>9047.0</td>\n",
       "    </tr>\n",
       "  </tbody>\n",
       "</table>\n",
       "</div>"
      ],
      "text/plain": [
       "                 c\n",
       "t                 \n",
       "1521636600  9002.5\n",
       "1521636900  9014.0\n",
       "1521637200  9023.5\n",
       "1521637500  9039.0\n",
       "1521637800  9047.0"
      ]
     },
     "execution_count": 9,
     "metadata": {},
     "output_type": "execute_result"
    }
   ],
   "source": [
    "future_dataframe.tail(5)"
   ]
  },
  {
   "cell_type": "code",
   "execution_count": 10,
   "metadata": {},
   "outputs": [
    {
     "data": {
      "text/plain": [
       "array([[ 0.09443283],\n",
       "       [ 0.10411453],\n",
       "       [ 0.15011978],\n",
       "       [ 0.13559341],\n",
       "       [ 0.1428566 ],\n",
       "       [ 0.20581055],\n",
       "       [ 0.19612503],\n",
       "       [ 0.41646576],\n",
       "       [ 0.42856979],\n",
       "       [ 0.46004868],\n",
       "       [ 0.45036316],\n",
       "       [ 0.49636841],\n",
       "       [ 0.49152374],\n",
       "       [ 1.        ],\n",
       "       [ 0.8740921 ],\n",
       "       [ 0.83293152],\n",
       "       [ 0.78450394],\n",
       "       [ 0.7142868 ],\n",
       "       [ 0.75060654],\n",
       "       [ 0.78450394],\n",
       "       [ 0.68523026],\n",
       "       [ 0.70217896],\n",
       "       [ 0.71186447],\n",
       "       [ 0.74092102],\n",
       "       [ 0.7990303 ],\n",
       "       [ 0.77965927],\n",
       "       [ 0.81356049],\n",
       "       [ 0.77481842],\n",
       "       [ 0.70217896],\n",
       "       [ 0.70217896],\n",
       "       [ 0.7142868 ],\n",
       "       [ 0.72397232],\n",
       "       [ 0.55690002],\n",
       "       [ 0.45036316],\n",
       "       [ 0.47941971],\n",
       "       [ 0.52300262],\n",
       "       [ 0.54479599],\n",
       "       [ 0.59564209],\n",
       "       [ 0.58837891],\n",
       "       [ 0.60048294],\n",
       "       [ 0.66585922],\n",
       "       [ 0.65375137],\n",
       "       [ 0.66828156],\n",
       "       [ 0.70217896],\n",
       "       [ 0.65859604],\n",
       "       [ 0.7820816 ],\n",
       "       [ 0.69249344],\n",
       "       [ 0.64648819],\n",
       "       [ 0.53511047],\n",
       "       [ 0.49152374],\n",
       "       [ 0.55690002],\n",
       "       [ 0.46004868],\n",
       "       [ 0.46731186],\n",
       "       [ 0.        ],\n",
       "       [ 0.04842758],\n",
       "       [ 0.09443283],\n",
       "       [ 0.01210785],\n",
       "       [ 0.08232498],\n",
       "       [ 0.02421188],\n",
       "       [ 0.02179337],\n",
       "       [ 0.06779861],\n",
       "       [ 0.15738678],\n",
       "       [ 0.13317108],\n",
       "       [ 0.02421188],\n",
       "       [ 0.11138153],\n",
       "       [ 0.19854736],\n",
       "       [ 0.24939346],\n",
       "       [ 0.16949081],\n",
       "       [ 0.14527893],\n",
       "       [ 0.16222763],\n",
       "       [ 0.18886185],\n",
       "       [ 0.13075256],\n",
       "       [ 0.16222763],\n",
       "       [ 0.23244476],\n",
       "       [ 0.55690002],\n",
       "       [ 0.56658554],\n",
       "       [ 0.61501312],\n",
       "       [ 0.65617371],\n",
       "       [ 0.71186447],\n",
       "       [ 0.67554474],\n",
       "       [ 0.62711716],\n",
       "       [ 0.65375137],\n",
       "       [ 0.64406967],\n",
       "       [ 0.7312355 ],\n",
       "       [ 0.78934479],\n",
       "       [ 0.68280792],\n",
       "       [ 0.69249344],\n",
       "       [ 0.65617371],\n",
       "       [ 0.67070389],\n",
       "       [ 0.70702362],\n",
       "       [ 0.69007111],\n",
       "       [ 0.64406967],\n",
       "       [ 0.66343689],\n",
       "       [ 0.69975662],\n",
       "       [ 0.69975662],\n",
       "       [ 0.6973381 ],\n",
       "       [ 0.72397232],\n",
       "       [ 0.83535004],\n",
       "       [ 0.78934479],\n",
       "       [ 0.815979  ],\n",
       "       [ 0.88619995],\n",
       "       [ 0.87166977],\n",
       "       [ 0.7651329 ],\n",
       "       [ 0.7142868 ],\n",
       "       [ 0.68765259],\n",
       "       [ 0.72397232],\n",
       "       [ 0.73849869],\n",
       "       [ 0.73365784],\n",
       "       [ 0.71670532],\n",
       "       [ 0.72397232],\n",
       "       [ 0.66101837],\n",
       "       [ 0.71186447],\n",
       "       [ 0.66585922],\n",
       "       [ 0.39951706],\n",
       "       [ 0.37046051],\n",
       "       [ 0.37530136],\n",
       "       [ 0.43099213],\n",
       "       [ 0.47699738],\n",
       "       [ 0.55205917],\n",
       "       [ 0.59079742]], dtype=float32)"
      ]
     },
     "execution_count": 10,
     "metadata": {},
     "output_type": "execute_result"
    }
   ],
   "source": [
    "from sac14.model import create_data\n",
    "import numpy as np\n",
    "\n",
    "dataset = future_dataframe.values.astype('float32')\n",
    "dataset = scaler.fit_transform(dataset)\n",
    "\n",
    "future_range = 3\n",
    "prediction_dataset = dataset\n",
    "for i in range(future_range):\n",
    "    data_x = create_data(prediction_dataset, look_back)[-1:]\n",
    "    prediction = model.predict(data_x)\n",
    "    prediction_dataset = np.append(prediction_dataset, prediction, axis=0)\n",
    "\n",
    "dataset"
   ]
  },
  {
   "cell_type": "code",
   "execution_count": 11,
   "metadata": {},
   "outputs": [
    {
     "data": {
      "text/plain": [
       "array([[ 0.09443283],\n",
       "       [ 0.10411453],\n",
       "       [ 0.15011978],\n",
       "       [ 0.13559341],\n",
       "       [ 0.1428566 ],\n",
       "       [ 0.20581055],\n",
       "       [ 0.19612503],\n",
       "       [ 0.41646576],\n",
       "       [ 0.42856979],\n",
       "       [ 0.46004868],\n",
       "       [ 0.45036316],\n",
       "       [ 0.49636841],\n",
       "       [ 0.49152374],\n",
       "       [ 1.        ],\n",
       "       [ 0.8740921 ],\n",
       "       [ 0.83293152],\n",
       "       [ 0.78450394],\n",
       "       [ 0.7142868 ],\n",
       "       [ 0.75060654],\n",
       "       [ 0.78450394],\n",
       "       [ 0.68523026],\n",
       "       [ 0.70217896],\n",
       "       [ 0.71186447],\n",
       "       [ 0.74092102],\n",
       "       [ 0.7990303 ],\n",
       "       [ 0.77965927],\n",
       "       [ 0.81356049],\n",
       "       [ 0.77481842],\n",
       "       [ 0.70217896],\n",
       "       [ 0.70217896],\n",
       "       [ 0.7142868 ],\n",
       "       [ 0.72397232],\n",
       "       [ 0.55690002],\n",
       "       [ 0.45036316],\n",
       "       [ 0.47941971],\n",
       "       [ 0.52300262],\n",
       "       [ 0.54479599],\n",
       "       [ 0.59564209],\n",
       "       [ 0.58837891],\n",
       "       [ 0.60048294],\n",
       "       [ 0.66585922],\n",
       "       [ 0.65375137],\n",
       "       [ 0.66828156],\n",
       "       [ 0.70217896],\n",
       "       [ 0.65859604],\n",
       "       [ 0.7820816 ],\n",
       "       [ 0.69249344],\n",
       "       [ 0.64648819],\n",
       "       [ 0.53511047],\n",
       "       [ 0.49152374],\n",
       "       [ 0.55690002],\n",
       "       [ 0.46004868],\n",
       "       [ 0.46731186],\n",
       "       [ 0.        ],\n",
       "       [ 0.04842758],\n",
       "       [ 0.09443283],\n",
       "       [ 0.01210785],\n",
       "       [ 0.08232498],\n",
       "       [ 0.02421188],\n",
       "       [ 0.02179337],\n",
       "       [ 0.06779861],\n",
       "       [ 0.15738678],\n",
       "       [ 0.13317108],\n",
       "       [ 0.02421188],\n",
       "       [ 0.11138153],\n",
       "       [ 0.19854736],\n",
       "       [ 0.24939346],\n",
       "       [ 0.16949081],\n",
       "       [ 0.14527893],\n",
       "       [ 0.16222763],\n",
       "       [ 0.18886185],\n",
       "       [ 0.13075256],\n",
       "       [ 0.16222763],\n",
       "       [ 0.23244476],\n",
       "       [ 0.55690002],\n",
       "       [ 0.56658554],\n",
       "       [ 0.61501312],\n",
       "       [ 0.65617371],\n",
       "       [ 0.71186447],\n",
       "       [ 0.67554474],\n",
       "       [ 0.62711716],\n",
       "       [ 0.65375137],\n",
       "       [ 0.64406967],\n",
       "       [ 0.7312355 ],\n",
       "       [ 0.78934479],\n",
       "       [ 0.68280792],\n",
       "       [ 0.69249344],\n",
       "       [ 0.65617371],\n",
       "       [ 0.67070389],\n",
       "       [ 0.70702362],\n",
       "       [ 0.69007111],\n",
       "       [ 0.64406967],\n",
       "       [ 0.66343689],\n",
       "       [ 0.69975662],\n",
       "       [ 0.69975662],\n",
       "       [ 0.6973381 ],\n",
       "       [ 0.72397232],\n",
       "       [ 0.83535004],\n",
       "       [ 0.78934479],\n",
       "       [ 0.815979  ],\n",
       "       [ 0.88619995],\n",
       "       [ 0.87166977],\n",
       "       [ 0.7651329 ],\n",
       "       [ 0.7142868 ],\n",
       "       [ 0.68765259],\n",
       "       [ 0.72397232],\n",
       "       [ 0.73849869],\n",
       "       [ 0.73365784],\n",
       "       [ 0.71670532],\n",
       "       [ 0.72397232],\n",
       "       [ 0.66101837],\n",
       "       [ 0.71186447],\n",
       "       [ 0.66585922],\n",
       "       [ 0.39951706],\n",
       "       [ 0.37046051],\n",
       "       [ 0.37530136],\n",
       "       [ 0.43099213],\n",
       "       [ 0.47699738],\n",
       "       [ 0.55205917],\n",
       "       [ 0.59079742],\n",
       "       [ 0.58964086],\n",
       "       [ 0.59058225],\n",
       "       [ 0.59252632]], dtype=float32)"
      ]
     },
     "execution_count": 11,
     "metadata": {},
     "output_type": "execute_result"
    }
   ],
   "source": [
    "prediction_dataset"
   ]
  },
  {
   "cell_type": "code",
   "execution_count": 12,
   "metadata": {},
   "outputs": [
    {
     "data": {
      "text/plain": [
       "array([[ 8944.5       ],\n",
       "       [ 8946.5       ],\n",
       "       [ 8956.        ],\n",
       "       [ 8953.        ],\n",
       "       [ 8954.5       ],\n",
       "       [ 8967.5       ],\n",
       "       [ 8965.5       ],\n",
       "       [ 9011.        ],\n",
       "       [ 9013.5       ],\n",
       "       [ 9020.        ],\n",
       "       [ 9018.        ],\n",
       "       [ 9027.5       ],\n",
       "       [ 9026.5       ],\n",
       "       [ 9131.5       ],\n",
       "       [ 9105.5       ],\n",
       "       [ 9097.        ],\n",
       "       [ 9087.        ],\n",
       "       [ 9072.5       ],\n",
       "       [ 9080.        ],\n",
       "       [ 9087.        ],\n",
       "       [ 9066.5       ],\n",
       "       [ 9070.        ],\n",
       "       [ 9072.        ],\n",
       "       [ 9078.        ],\n",
       "       [ 9090.        ],\n",
       "       [ 9086.        ],\n",
       "       [ 9093.        ],\n",
       "       [ 9085.        ],\n",
       "       [ 9070.        ],\n",
       "       [ 9070.        ],\n",
       "       [ 9072.5       ],\n",
       "       [ 9074.5       ],\n",
       "       [ 9040.        ],\n",
       "       [ 9018.        ],\n",
       "       [ 9024.        ],\n",
       "       [ 9033.        ],\n",
       "       [ 9037.5       ],\n",
       "       [ 9048.        ],\n",
       "       [ 9046.5       ],\n",
       "       [ 9049.        ],\n",
       "       [ 9062.5       ],\n",
       "       [ 9060.        ],\n",
       "       [ 9063.        ],\n",
       "       [ 9070.        ],\n",
       "       [ 9061.        ],\n",
       "       [ 9086.5       ],\n",
       "       [ 9068.        ],\n",
       "       [ 9058.5       ],\n",
       "       [ 9035.5       ],\n",
       "       [ 9026.5       ],\n",
       "       [ 9040.        ],\n",
       "       [ 9020.        ],\n",
       "       [ 9021.5       ],\n",
       "       [ 8925.        ],\n",
       "       [ 8935.        ],\n",
       "       [ 8944.5       ],\n",
       "       [ 8927.5       ],\n",
       "       [ 8942.        ],\n",
       "       [ 8930.        ],\n",
       "       [ 8929.5       ],\n",
       "       [ 8939.        ],\n",
       "       [ 8957.5       ],\n",
       "       [ 8952.5       ],\n",
       "       [ 8930.        ],\n",
       "       [ 8948.        ],\n",
       "       [ 8966.        ],\n",
       "       [ 8976.5       ],\n",
       "       [ 8960.        ],\n",
       "       [ 8955.        ],\n",
       "       [ 8958.5       ],\n",
       "       [ 8964.        ],\n",
       "       [ 8952.        ],\n",
       "       [ 8958.5       ],\n",
       "       [ 8973.        ],\n",
       "       [ 9040.        ],\n",
       "       [ 9042.        ],\n",
       "       [ 9052.        ],\n",
       "       [ 9060.5       ],\n",
       "       [ 9072.        ],\n",
       "       [ 9064.5       ],\n",
       "       [ 9054.5       ],\n",
       "       [ 9060.        ],\n",
       "       [ 9058.        ],\n",
       "       [ 9076.        ],\n",
       "       [ 9088.        ],\n",
       "       [ 9066.        ],\n",
       "       [ 9068.        ],\n",
       "       [ 9060.5       ],\n",
       "       [ 9063.5       ],\n",
       "       [ 9071.        ],\n",
       "       [ 9067.5       ],\n",
       "       [ 9058.        ],\n",
       "       [ 9062.        ],\n",
       "       [ 9069.5       ],\n",
       "       [ 9069.5       ],\n",
       "       [ 9069.        ],\n",
       "       [ 9074.5       ],\n",
       "       [ 9097.5       ],\n",
       "       [ 9088.        ],\n",
       "       [ 9093.5       ],\n",
       "       [ 9108.        ],\n",
       "       [ 9105.        ],\n",
       "       [ 9083.        ],\n",
       "       [ 9072.5       ],\n",
       "       [ 9067.        ],\n",
       "       [ 9074.5       ],\n",
       "       [ 9077.5       ],\n",
       "       [ 9076.5       ],\n",
       "       [ 9073.        ],\n",
       "       [ 9074.5       ],\n",
       "       [ 9061.5       ],\n",
       "       [ 9072.        ],\n",
       "       [ 9062.5       ],\n",
       "       [ 9007.5       ],\n",
       "       [ 9001.5       ],\n",
       "       [ 9002.5       ],\n",
       "       [ 9014.        ],\n",
       "       [ 9023.5       ],\n",
       "       [ 9039.        ],\n",
       "       [ 9047.        ],\n",
       "       [ 9046.76074219],\n",
       "       [ 9046.95507812],\n",
       "       [ 9047.35644531]], dtype=float32)"
      ]
     },
     "execution_count": 12,
     "metadata": {},
     "output_type": "execute_result"
    }
   ],
   "source": [
    "scaler.inverse_transform(prediction_dataset)"
   ]
  },
  {
   "cell_type": "code",
   "execution_count": 13,
   "metadata": {},
   "outputs": [
    {
     "data": {
      "image/png": "[encoded data removed]",
      "text/plain": [
       "<matplotlib.figure.Figure at 0x1a267440f0>"
      ]
     },
     "metadata": {},
     "output_type": "display_data"
    }
   ],
   "source": [
    "import matplotlib.pyplot as plt\n",
    "import numpy as np\n",
    "\n",
    "predict_plot = np.empty((prediction_dataset.shape[0], dataset.shape[1]))\n",
    "predict_plot[:, :] = np.nan\n",
    "predict_plot[:, :] = scaler.inverse_transform(prediction_dataset)\n",
    "\n",
    "plt.plot(predict_plot, label='Prediction')\n",
    "plt.plot(scaler.inverse_transform(dataset), label='Dataset')\n",
    "plt.legend()\n",
    "plt.show()"
   ]
  }
 ],
 "metadata": {
  "kernelspec": {
   "display_name": "Python 3",
   "language": "python",
   "name": "python3"
  },
  "language_info": {
   "codemirror_mode": {
    "name": "ipython",
    "version": 3
   },
   "file_extension": ".py",
   "mimetype": "text/x-python",
   "name": "python",
   "nbconvert_exporter": "python",
   "pygments_lexer": "ipython3",
   "version": "3.6.3"
  }
 },
 "nbformat": 4,
 "nbformat_minor": 2
}
