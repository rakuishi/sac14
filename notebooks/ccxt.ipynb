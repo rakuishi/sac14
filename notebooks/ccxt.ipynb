{
 "cells": [
  {
   "cell_type": "code",
   "execution_count": 1,
   "metadata": {
    "collapsed": true
   },
   "outputs": [],
   "source": [
    "# pip install ccxt\n",
    "# pip install python-dotenv"
   ]
  },
  {
   "cell_type": "code",
   "execution_count": 2,
   "metadata": {},
   "outputs": [
    {
     "data": {
      "text/plain": [
       "True"
      ]
     },
     "execution_count": 2,
     "metadata": {},
     "output_type": "execute_result"
    }
   ],
   "source": [
    "import sys,os\n",
    "from os.path import join, dirname\n",
    "from dotenv import load_dotenv\n",
    "\n",
    "dotenv_path = os.path.dirname(os.path.abspath('__file__')) + '/../.env'\n",
    "load_dotenv(dotenv_path)"
   ]
  },
  {
   "cell_type": "code",
   "execution_count": 3,
   "metadata": {
    "collapsed": true
   },
   "outputs": [],
   "source": [
    "import ccxt\n",
    "bitmex = ccxt.bitmex({\n",
    "  'apiKey': os.environ.get('TESTNET_API_KEY'),\n",
    "  'secret': os.environ.get('TESTNET_SECRET'),\n",
    "})\n",
    "bitmex.urls['api'] = bitmex.urls['test']"
   ]
  },
  {
   "cell_type": "code",
   "execution_count": 4,
   "metadata": {},
   "outputs": [
    {
     "name": "stdout",
     "output_type": "stream",
     "text": [
      "{'symbol': 'BTC/USD', 'timestamp': 1521337741454, 'datetime': '2018-03-18T01:49:01.454Z', 'high': 7863.0, 'low': 7700.0, 'bid': 7756.5, 'ask': 7762.5, 'vwap': 7742.3351, 'open': 7793.5, 'close': 7760.0, 'last': 7760.0, 'previousClose': None, 'change': -33.5, 'percentage': -0.4298453839738243, 'average': 7776.75, 'baseVolume': 3090.072326580001, 'quoteVolume': 23922070.0, 'info': {'timestamp': '2018-03-19T00:00:00.000Z', 'symbol': 'XBTUSD', 'open': 7793.5, 'high': 7863, 'low': 7700, 'close': 7760, 'trades': 2522, 'volume': 23922070, 'vwap': 7742.3351, 'lastSize': 10000, 'turnover': 309007232658, 'homeNotional': 3090.072326580001, 'foreignNotional': 23922070}}\n"
     ]
    }
   ],
   "source": [
    "# 価格\n",
    "print(bitmex.fetch_ticker('BTC/USD'))"
   ]
  },
  {
   "cell_type": "code",
   "execution_count": 6,
   "metadata": {},
   "outputs": [
    {
     "name": "stdout",
     "output_type": "stream",
     "text": [
      "{'info': [{'account': 49813, 'currency': 'XBt', 'riskLimit': 1000000000000, 'prevState': '', 'state': '', 'action': '', 'amount': 0, 'pendingCredit': 0, 'pendingDebit': 0, 'confirmedDebit': 0, 'prevRealisedPnl': 0, 'prevUnrealisedPnl': 0, 'grossComm': 0, 'grossOpenCost': 0, 'grossOpenPremium': 0, 'grossExecCost': 0, 'grossMarkValue': 0, 'riskValue': 0, 'taxableMargin': 0, 'initMargin': 0, 'maintMargin': 0, 'sessionMargin': 0, 'targetExcessMargin': 0, 'varMargin': 0, 'realisedPnl': 0, 'unrealisedPnl': 0, 'indicativeTax': 0, 'unrealisedProfit': 0, 'syntheticMargin': 0, 'walletBalance': 0, 'marginBalance': 0, 'marginBalancePcnt': 1, 'marginLeverage': 0, 'marginUsedPcnt': 0, 'excessMargin': 0, 'excessMarginPcnt': 1, 'availableMargin': 0, 'withdrawableMargin': 0, 'timestamp': '2018-03-18T01:15:37.862Z', 'grossLastValue': 0, 'commission': None}], 'BTC': {'free': 0.0, 'used': 0.0, 'total': 0.0}, 'free': {'BTC': 0.0}, 'used': {'BTC': 0.0}, 'total': {'BTC': 0.0}}\n"
     ]
    }
   ],
   "source": [
    "# 残高\n",
    "print(bitmex.fetch_balance())"
   ]
  },
  {
   "cell_type": "code",
   "execution_count": 8,
   "metadata": {},
   "outputs": [
    {
     "name": "stdout",
     "output_type": "stream",
     "text": [
      "[]\n"
     ]
    }
   ],
   "source": [
    "# 注文\n",
    "orders = bitmex.fetch_open_orders()\n",
    "print(orders)"
   ]
  },
  {
   "cell_type": "code",
   "execution_count": 9,
   "metadata": {},
   "outputs": [
    {
     "name": "stdout",
     "output_type": "stream",
     "text": [
      "[]\n"
     ]
    }
   ],
   "source": [
    "# 保有\n",
    "print(bitmex.private_get_position())"
   ]
  }
 ],
 "metadata": {
  "kernelspec": {
   "display_name": "Python 3",
   "language": "python",
   "name": "python3"
  },
  "language_info": {
   "codemirror_mode": {
    "name": "ipython",
    "version": 3
   },
   "file_extension": ".py",
   "mimetype": "text/x-python",
   "name": "python",
   "nbconvert_exporter": "python",
   "pygments_lexer": "ipython3",
   "version": "3.6.3"
  }
 },
 "nbformat": 4,
 "nbformat_minor": 2
}
