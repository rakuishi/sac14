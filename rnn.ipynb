{
 "cells": [
  {
   "cell_type": "code",
   "execution_count": 71,
   "metadata": {},
   "outputs": [
    {
     "data": {
      "text/plain": [
       "<matplotlib.axes._subplots.AxesSubplot at 0x1a221eb7b8>"
      ]
     },
     "execution_count": 71,
     "metadata": {},
     "output_type": "execute_result"
    },
    {
     "data": {
      "image/png": "[encoded data removed]",
      "text/plain": [
       "<matplotlib.figure.Figure at 0x1a21ee2eb8>"
      ]
     },
     "metadata": {},
     "output_type": "display_data"
    }
   ],
   "source": [
    "%matplotlib inline\n",
    "from sac14.btcusd import btcusd\n",
    "\n",
    "dataframe = btcusd()\n",
    "dataframe.plot()"
   ]
  },
  {
   "cell_type": "code",
   "execution_count": 72,
   "metadata": {},
   "outputs": [
    {
     "data": {
      "text/html": [
       "<div>\n",
       "<style>\n",
       "    .dataframe thead tr:only-child th {\n",
       "        text-align: right;\n",
       "    }\n",
       "\n",
       "    .dataframe thead th {\n",
       "        text-align: left;\n",
       "    }\n",
       "\n",
       "    .dataframe tbody tr th {\n",
       "        vertical-align: top;\n",
       "    }\n",
       "</style>\n",
       "<table border=\"1\" class=\"dataframe\">\n",
       "  <thead>\n",
       "    <tr style=\"text-align: right;\">\n",
       "      <th></th>\n",
       "      <th>close</th>\n",
       "    </tr>\n",
       "    <tr>\n",
       "      <th>unixtime</th>\n",
       "      <th></th>\n",
       "    </tr>\n",
       "  </thead>\n",
       "  <tbody>\n",
       "    <tr>\n",
       "      <th>1520590560</th>\n",
       "      <td>8604.5</td>\n",
       "    </tr>\n",
       "    <tr>\n",
       "      <th>1520590620</th>\n",
       "      <td>8627.5</td>\n",
       "    </tr>\n",
       "    <tr>\n",
       "      <th>1520590680</th>\n",
       "      <td>8645.0</td>\n",
       "    </tr>\n",
       "  </tbody>\n",
       "</table>\n",
       "</div>"
      ],
      "text/plain": [
       "             close\n",
       "unixtime          \n",
       "1520590560  8604.5\n",
       "1520590620  8627.5\n",
       "1520590680  8645.0"
      ]
     },
     "execution_count": 72,
     "metadata": {},
     "output_type": "execute_result"
    }
   ],
   "source": [
    "dataframe.head(3)"
   ]
  },
  {
   "cell_type": "code",
   "execution_count": 73,
   "metadata": {},
   "outputs": [
    {
     "data": {
      "text/plain": [
       "array([[ 8604.5],\n",
       "       [ 8627.5],\n",
       "       [ 8645. ],\n",
       "       ..., \n",
       "       [ 9044.5],\n",
       "       [ 9068. ],\n",
       "       [ 9080. ]], dtype=float32)"
      ]
     },
     "execution_count": 73,
     "metadata": {},
     "output_type": "execute_result"
    }
   ],
   "source": [
    "dataset = dataframe.values.astype('float32')\n",
    "dataset"
   ]
  },
  {
   "cell_type": "code",
   "execution_count": 74,
   "metadata": {},
   "outputs": [
    {
     "data": {
      "text/plain": [
       "array([[ 0.11857414],\n",
       "       [ 0.13433838],\n",
       "       [ 0.14633322],\n",
       "       ..., \n",
       "       [ 0.42015076],\n",
       "       [ 0.43625784],\n",
       "       [ 0.44448233]], dtype=float32)"
      ]
     },
     "execution_count": 74,
     "metadata": {},
     "output_type": "execute_result"
    }
   ],
   "source": [
    "from sklearn.preprocessing import MinMaxScaler\n",
    "\n",
    "# 終値を 0 ~ 1 の範囲に正規化する\n",
    "scaler = MinMaxScaler(feature_range=(0, 1))\n",
    "dataset = scaler.fit_transform(dataset)\n",
    "dataset"
   ]
  },
  {
   "cell_type": "code",
   "execution_count": 75,
   "metadata": {},
   "outputs": [
    {
     "data": {
      "text/plain": [
       "(4020, 1980)"
      ]
     },
     "execution_count": 75,
     "metadata": {},
     "output_type": "execute_result"
    }
   ],
   "source": [
    "# 訓練データとテストデータに分割する\n",
    "train_size = int(len(dataset) * 0.67)\n",
    "test_size = len(dataset) - train_size\n",
    "train_size, test_size"
   ]
  },
  {
   "cell_type": "code",
   "execution_count": 76,
   "metadata": {},
   "outputs": [
    {
     "data": {
      "text/plain": [
       "array([[ 0.11857414],\n",
       "       [ 0.13433838],\n",
       "       [ 0.14633322],\n",
       "       ..., \n",
       "       [ 0.7361207 ],\n",
       "       [ 0.74091864],\n",
       "       [ 0.74503088]], dtype=float32)"
      ]
     },
     "execution_count": 76,
     "metadata": {},
     "output_type": "execute_result"
    }
   ],
   "source": [
    "train = dataset[0:train_size,:]\n",
    "test = dataset[train_size:len(dataset),:]\n",
    "train"
   ]
  },
  {
   "cell_type": "code",
   "execution_count": 77,
   "metadata": {},
   "outputs": [
    {
     "data": {
      "text/plain": [
       "array([[ 0.75736809],\n",
       "       [ 0.75359821],\n",
       "       [ 0.75325584],\n",
       "       ..., \n",
       "       [ 0.42015076],\n",
       "       [ 0.43625784],\n",
       "       [ 0.44448233]], dtype=float32)"
      ]
     },
     "execution_count": 77,
     "metadata": {},
     "output_type": "execute_result"
    }
   ],
   "source": [
    "test"
   ]
  },
  {
   "cell_type": "code",
   "execution_count": 78,
   "metadata": {
    "collapsed": true
   },
   "outputs": [],
   "source": [
    "import numpy as np\n",
    "\n",
    "def create_dataset(dataset, look_back=1):\n",
    "    data_x, data_y = [], []\n",
    "    for i in range(len(dataset) - look_back - 1):\n",
    "        data_x.append(dataset[i:(i + look_back), 0])\n",
    "        data_y.append(dataset[i + look_back, 0])\n",
    "    return np.array(data_x), np.array(data_y)"
   ]
  },
  {
   "cell_type": "code",
   "execution_count": 79,
   "metadata": {},
   "outputs": [
    {
     "data": {
      "text/plain": [
       "array([[ 0.11857414,  0.13433838,  0.14633322],\n",
       "       [ 0.13433838,  0.14633322,  0.18163109],\n",
       "       [ 0.14633322,  0.18163109,  0.20253611],\n",
       "       ..., \n",
       "       [ 0.76010942,  0.73132277,  0.74160385],\n",
       "       [ 0.73132277,  0.74160385,  0.73440695],\n",
       "       [ 0.74160385,  0.73440695,  0.7361207 ]], dtype=float32)"
      ]
     },
     "execution_count": 79,
     "metadata": {},
     "output_type": "execute_result"
    }
   ],
   "source": [
    "look_back = 3\n",
    "train_x, train_y = create_dataset(train, look_back)\n",
    "train_x"
   ]
  },
  {
   "cell_type": "code",
   "execution_count": 80,
   "metadata": {},
   "outputs": [
    {
     "data": {
      "text/plain": [
       "array([ 0.18163109,  0.20253611,  0.18026018, ...,  0.73440695,\n",
       "        0.7361207 ,  0.74091864], dtype=float32)"
      ]
     },
     "execution_count": 80,
     "metadata": {},
     "output_type": "execute_result"
    }
   ],
   "source": [
    "train_y"
   ]
  },
  {
   "cell_type": "code",
   "execution_count": 81,
   "metadata": {
    "collapsed": true
   },
   "outputs": [],
   "source": [
    "test_x, test_y = create_dataset(test, look_back)"
   ]
  },
  {
   "cell_type": "code",
   "execution_count": 82,
   "metadata": {},
   "outputs": [
    {
     "data": {
      "text/plain": [
       "(4016, 3, 1)"
      ]
     },
     "execution_count": 82,
     "metadata": {},
     "output_type": "execute_result"
    }
   ],
   "source": [
    "train_x = np.reshape(train_x, (train_x.shape[0], train_x.shape[1], 1))\n",
    "train_x.shape"
   ]
  },
  {
   "cell_type": "code",
   "execution_count": 83,
   "metadata": {},
   "outputs": [
    {
     "data": {
      "text/plain": [
       "array([[[ 0.11857414],\n",
       "        [ 0.13433838],\n",
       "        [ 0.14633322]],\n",
       "\n",
       "       [[ 0.13433838],\n",
       "        [ 0.14633322],\n",
       "        [ 0.18163109]],\n",
       "\n",
       "       [[ 0.14633322],\n",
       "        [ 0.18163109],\n",
       "        [ 0.20253611]],\n",
       "\n",
       "       ..., \n",
       "       [[ 0.76010942],\n",
       "        [ 0.73132277],\n",
       "        [ 0.74160385]],\n",
       "\n",
       "       [[ 0.73132277],\n",
       "        [ 0.74160385],\n",
       "        [ 0.73440695]],\n",
       "\n",
       "       [[ 0.74160385],\n",
       "        [ 0.73440695],\n",
       "        [ 0.7361207 ]]], dtype=float32)"
      ]
     },
     "execution_count": 83,
     "metadata": {},
     "output_type": "execute_result"
    }
   ],
   "source": [
    "train_x"
   ]
  },
  {
   "cell_type": "code",
   "execution_count": 84,
   "metadata": {},
   "outputs": [
    {
     "data": {
      "text/plain": [
       "(1976, 3, 1)"
      ]
     },
     "execution_count": 84,
     "metadata": {},
     "output_type": "execute_result"
    }
   ],
   "source": [
    "test_x = np.reshape(test_x, (test_x.shape[0], test_x.shape[1], 1))\n",
    "test_x.shape"
   ]
  },
  {
   "cell_type": "code",
   "execution_count": 85,
   "metadata": {
    "collapsed": true
   },
   "outputs": [],
   "source": [
    "# モデル構築 SimpleRNN\n",
    "\n",
    "from keras.models import Sequential\n",
    "from keras.layers import Dense, Activation, SimpleRNN"
   ]
  },
  {
   "cell_type": "code",
   "execution_count": 86,
   "metadata": {
    "collapsed": true
   },
   "outputs": [],
   "source": [
    "hid_dim = 10\n",
    "model = Sequential()\n",
    "# input_shape = (系列長T, x_tの次元)\n",
    "# output_shape = (系列長T, units(=hid_dim))\n",
    "model.add(SimpleRNN(hid_dim, input_shape=(look_back, 1)))\n",
    "model.add(Dense(1))\n",
    "model.compile(loss='mean_squared_error', optimizer='adam')"
   ]
  },
  {
   "cell_type": "code",
   "execution_count": 87,
   "metadata": {},
   "outputs": [
    {
     "name": "stdout",
     "output_type": "stream",
     "text": [
      "Epoch 1/100\n",
      " - 7s - loss: 6.8465e-04\n",
      "Epoch 2/100\n",
      " - 6s - loss: 2.3080e-04\n",
      "Epoch 3/100\n",
      " - 6s - loss: 2.1897e-04\n",
      "Epoch 4/100\n",
      " - 5s - loss: 2.1310e-04\n",
      "Epoch 5/100\n",
      " - 5s - loss: 2.0698e-04\n",
      "Epoch 6/100\n",
      " - 6s - loss: 2.0553e-04\n",
      "Epoch 7/100\n",
      " - 6s - loss: 2.0191e-04\n",
      "Epoch 8/100\n",
      " - 5s - loss: 1.9932e-04\n",
      "Epoch 9/100\n",
      " - 5s - loss: 2.0183e-04\n",
      "Epoch 10/100\n",
      " - 5s - loss: 1.9441e-04\n",
      "Epoch 11/100\n",
      " - 5s - loss: 1.9754e-04\n",
      "Epoch 12/100\n",
      " - 5s - loss: 1.9785e-04\n",
      "Epoch 13/100\n",
      " - 5s - loss: 1.9107e-04\n",
      "Epoch 14/100\n",
      " - 5s - loss: 1.8867e-04\n",
      "Epoch 15/100\n",
      " - 5s - loss: 1.9290e-04\n",
      "Epoch 16/100\n",
      " - 5s - loss: 1.8741e-04\n",
      "Epoch 17/100\n",
      " - 5s - loss: 1.9146e-04\n",
      "Epoch 18/100\n",
      " - 5s - loss: 1.9309e-04\n",
      "Epoch 19/100\n",
      " - 5s - loss: 1.8738e-04\n",
      "Epoch 20/100\n",
      " - 5s - loss: 1.8940e-04\n",
      "Epoch 21/100\n",
      " - 5s - loss: 1.8646e-04\n",
      "Epoch 22/100\n",
      " - 5s - loss: 1.8584e-04\n",
      "Epoch 23/100\n",
      " - 5s - loss: 1.8893e-04\n",
      "Epoch 24/100\n",
      " - 6s - loss: 1.8265e-04\n",
      "Epoch 25/100\n",
      " - 5s - loss: 1.8742e-04\n",
      "Epoch 26/100\n",
      " - 5s - loss: 1.8817e-04\n",
      "Epoch 27/100\n",
      " - 5s - loss: 1.8647e-04\n",
      "Epoch 28/100\n",
      " - 5s - loss: 1.8531e-04\n",
      "Epoch 29/100\n",
      " - 5s - loss: 1.8527e-04\n",
      "Epoch 30/100\n",
      " - 5s - loss: 1.8740e-04\n",
      "Epoch 31/100\n",
      " - 5s - loss: 1.8339e-04\n",
      "Epoch 32/100\n",
      " - 5s - loss: 1.7914e-04\n",
      "Epoch 33/100\n",
      " - 5s - loss: 1.8184e-04\n",
      "Epoch 34/100\n",
      " - 5s - loss: 1.8206e-04\n",
      "Epoch 35/100\n",
      " - 5s - loss: 1.8320e-04\n",
      "Epoch 36/100\n",
      " - 5s - loss: 1.8303e-04\n",
      "Epoch 37/100\n",
      " - 5s - loss: 1.8304e-04\n",
      "Epoch 38/100\n",
      " - 6s - loss: 1.8634e-04\n",
      "Epoch 39/100\n",
      " - 5s - loss: 1.8127e-04\n",
      "Epoch 40/100\n",
      " - 5s - loss: 1.8157e-04\n",
      "Epoch 41/100\n",
      " - 5s - loss: 1.8136e-04\n",
      "Epoch 42/100\n",
      " - 5s - loss: 1.8143e-04\n",
      "Epoch 43/100\n",
      " - 5s - loss: 1.8312e-04\n",
      "Epoch 44/100\n",
      " - 6s - loss: 1.7922e-04\n",
      "Epoch 45/100\n",
      " - 6s - loss: 1.7851e-04\n",
      "Epoch 46/100\n",
      " - 5s - loss: 1.7836e-04\n",
      "Epoch 47/100\n",
      " - 5s - loss: 1.7896e-04\n",
      "Epoch 48/100\n",
      " - 6s - loss: 1.8029e-04\n",
      "Epoch 49/100\n",
      " - 5s - loss: 1.8020e-04\n",
      "Epoch 50/100\n",
      " - 6s - loss: 1.7797e-04\n",
      "Epoch 51/100\n",
      " - 6s - loss: 1.8193e-04\n",
      "Epoch 52/100\n",
      " - 5s - loss: 1.7943e-04\n",
      "Epoch 53/100\n",
      " - 5s - loss: 1.7680e-04\n",
      "Epoch 54/100\n",
      " - 5s - loss: 1.7691e-04\n",
      "Epoch 55/100\n",
      " - 6s - loss: 1.7618e-04\n",
      "Epoch 56/100\n",
      " - 6s - loss: 1.7720e-04\n",
      "Epoch 57/100\n",
      " - 6s - loss: 1.7508e-04\n",
      "Epoch 58/100\n",
      " - 5s - loss: 1.8054e-04\n",
      "Epoch 59/100\n",
      " - 5s - loss: 1.7855e-04\n",
      "Epoch 60/100\n",
      " - 5s - loss: 1.7398e-04\n",
      "Epoch 61/100\n",
      " - 5s - loss: 1.7808e-04\n",
      "Epoch 62/100\n",
      " - 5s - loss: 1.7766e-04\n",
      "Epoch 63/100\n",
      " - 6s - loss: 1.7795e-04\n",
      "Epoch 64/100\n",
      " - 5s - loss: 1.7758e-04\n",
      "Epoch 65/100\n",
      " - 5s - loss: 1.7669e-04\n",
      "Epoch 66/100\n",
      " - 5s - loss: 1.7602e-04\n",
      "Epoch 67/100\n",
      " - 5s - loss: 1.7660e-04\n",
      "Epoch 68/100\n",
      " - 6s - loss: 1.7916e-04\n",
      "Epoch 69/100\n",
      " - 5s - loss: 1.7329e-04\n",
      "Epoch 70/100\n",
      " - 5s - loss: 1.7464e-04\n",
      "Epoch 71/100\n",
      " - 5s - loss: 1.7590e-04\n",
      "Epoch 72/100\n",
      " - 5s - loss: 1.7405e-04\n",
      "Epoch 73/100\n",
      " - 5s - loss: 1.7718e-04\n",
      "Epoch 74/100\n",
      " - 6s - loss: 1.7499e-04\n",
      "Epoch 75/100\n",
      " - 6s - loss: 1.7263e-04\n",
      "Epoch 76/100\n",
      " - 5s - loss: 1.7470e-04\n",
      "Epoch 77/100\n",
      " - 6s - loss: 1.7464e-04\n",
      "Epoch 78/100\n",
      " - 6s - loss: 1.7377e-04\n",
      "Epoch 79/100\n",
      " - 6s - loss: 1.7635e-04\n",
      "Epoch 80/100\n",
      " - 5s - loss: 1.7457e-04\n",
      "Epoch 81/100\n",
      " - 5s - loss: 1.7424e-04\n",
      "Epoch 82/100\n",
      " - 6s - loss: 1.7153e-04\n",
      "Epoch 83/100\n",
      " - 5s - loss: 1.7506e-04\n",
      "Epoch 84/100\n",
      " - 5s - loss: 1.7377e-04\n",
      "Epoch 85/100\n",
      " - 6s - loss: 1.7750e-04\n",
      "Epoch 86/100\n",
      " - 5s - loss: 1.7080e-04\n",
      "Epoch 87/100\n",
      " - 5s - loss: 1.7125e-04\n",
      "Epoch 88/100\n",
      " - 5s - loss: 1.7360e-04\n",
      "Epoch 89/100\n",
      " - 5s - loss: 1.7104e-04\n",
      "Epoch 90/100\n",
      " - 5s - loss: 1.7367e-04\n",
      "Epoch 91/100\n",
      " - 6s - loss: 1.7305e-04\n",
      "Epoch 92/100\n",
      " - 6s - loss: 1.7224e-04\n",
      "Epoch 93/100\n",
      " - 6s - loss: 1.7363e-04\n",
      "Epoch 94/100\n",
      " - 6s - loss: 1.7310e-04\n",
      "Epoch 95/100\n",
      " - 6s - loss: 1.7162e-04\n",
      "Epoch 96/100\n",
      " - 6s - loss: 1.7273e-04\n",
      "Epoch 97/100\n",
      " - 6s - loss: 1.7252e-04\n",
      "Epoch 98/100\n",
      " - 6s - loss: 1.7214e-04\n",
      "Epoch 99/100\n",
      " - 6s - loss: 1.7387e-04\n",
      "Epoch 100/100\n",
      " - 6s - loss: 1.7387e-04\n"
     ]
    },
    {
     "data": {
      "text/plain": [
       "<keras.callbacks.History at 0x1a22360c18>"
      ]
     },
     "execution_count": 87,
     "metadata": {},
     "output_type": "execute_result"
    }
   ],
   "source": [
    "model.fit(train_x, train_y, epochs=100, batch_size=1, verbose=2)"
   ]
  },
  {
   "cell_type": "code",
   "execution_count": 88,
   "metadata": {},
   "outputs": [
    {
     "data": {
      "text/plain": [
       "(4016, 1976)"
      ]
     },
     "execution_count": 88,
     "metadata": {},
     "output_type": "execute_result"
    }
   ],
   "source": [
    "# 予測の精度を平均二乗誤差平方根（RMSE）で評価する\n",
    "\n",
    "import math\n",
    "from sklearn.metrics import mean_squared_error\n",
    "\n",
    "# 訓練データとテストデータに対する予測\n",
    "train_predict = model.predict(train_x)\n",
    "test_predict = model.predict(test_x)\n",
    "\n",
    "len(train_predict), len(test_predict)"
   ]
  },
  {
   "cell_type": "code",
   "execution_count": 90,
   "metadata": {},
   "outputs": [
    {
     "name": "stdout",
     "output_type": "stream",
     "text": [
      "Train RMSE: 22.81\n",
      "Test RMSE: 26.62\n"
     ]
    }
   ],
   "source": [
    "# 正規化を元に戻す\n",
    "train_predict_inv = scaler.inverse_transform(train_predict)\n",
    "train_y_inv = scaler.inverse_transform([train_y])\n",
    "test_predict_inv = scaler.inverse_transform(test_predict)\n",
    "test_y_inv = scaler.inverse_transform([test_y])\n",
    "\n",
    "# 平均二乗誤差のルートで評価\n",
    "train_score = math.sqrt(mean_squared_error(train_y_inv[0], train_predict_inv[:,0]))\n",
    "print('Train RMSE: %.2f' % (train_score))\n",
    "test_score = math.sqrt(mean_squared_error(test_y_inv[0], test_predict_inv[:,0]))\n",
    "print('Test RMSE: %.2f' % (test_score))"
   ]
  },
  {
   "cell_type": "code",
   "execution_count": 94,
   "metadata": {},
   "outputs": [
    {
     "data": {
      "image/png": "[encoded data removed]",
      "text/plain": [
       "<matplotlib.figure.Figure at 0x1a22a7d048>"
      ]
     },
     "metadata": {},
     "output_type": "display_data"
    }
   ],
   "source": [
    "import matplotlib.pyplot as plt\n",
    "\n",
    "# 訓練データ部分の予測データ\n",
    "train_predict_plot = np.empty_like(dataset)\n",
    "train_predict_plot[:, :] = np.nan\n",
    "train_predict_plot[look_back:len(train_predict_inv)+look_back, :] = train_predict_inv\n",
    "\n",
    "# テストデータ部分の予測データ\n",
    "test_predict_plot = np.empty_like(dataset)\n",
    "test_predict_plot[:, :] = np.nan\n",
    "test_predict_plot[len(train_predict_inv)+(look_back*2)+1:len(dataset)-1, :] = test_predict_inv\n",
    "\n",
    "plt.plot(scaler.inverse_transform(dataset), label='Dataset')\n",
    "plt.plot(train_predict_plot, label='Prediction under train data')\n",
    "plt.plot(test_predict_plot, label='Prediction under test data')\n",
    "plt.legend()\n",
    "plt.show()"
   ]
  }
 ],
 "metadata": {
  "kernelspec": {
   "display_name": "Python 3",
   "language": "python",
   "name": "python3"
  },
  "language_info": {
   "codemirror_mode": {
    "name": "ipython",
    "version": 3
   },
   "file_extension": ".py",
   "mimetype": "text/x-python",
   "name": "python",
   "nbconvert_exporter": "python",
   "pygments_lexer": "ipython3",
   "version": "3.6.3"
  }
 },
 "nbformat": 4,
 "nbformat_minor": 2
}
