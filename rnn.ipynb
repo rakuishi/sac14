{
 "cells": [
  {
   "cell_type": "code",
   "execution_count": 71,
   "metadata": {},
   "outputs": [
    {
     "data": {
      "text/plain": [
       "<matplotlib.axes._subplots.AxesSubplot at 0x1a221eb7b8>"
      ]
     },
     "execution_count": 71,
     "metadata": {},
     "output_type": "execute_result"
    },
    {
     "data": {
      "image/png": "[encoded data removed]",
      "text/plain": [
       "<matplotlib.figure.Figure at 0x1a21ee2eb8>"
      ]
     },
     "metadata": {},
     "output_type": "display_data"
    }
   ],
   "source": [
    "%matplotlib inline\n",
    "from sac14.btcusd import btcusd\n",
    "\n",
    "dataframe = btcusd()\n",
    "dataframe.plot()"
   ]
  },
  {
   "cell_type": "code",
   "execution_count": 165,
   "metadata": {},
   "outputs": [
    {
     "data": {
      "text/html": [
       "<div>\n",
       "<style>\n",
       "    .dataframe thead tr:only-child th {\n",
       "        text-align: right;\n",
       "    }\n",
       "\n",
       "    .dataframe thead th {\n",
       "        text-align: left;\n",
       "    }\n",
       "\n",
       "    .dataframe tbody tr th {\n",
       "        vertical-align: top;\n",
       "    }\n",
       "</style>\n",
       "<table border=\"1\" class=\"dataframe\">\n",
       "  <thead>\n",
       "    <tr style=\"text-align: right;\">\n",
       "      <th></th>\n",
       "      <th>close</th>\n",
       "    </tr>\n",
       "    <tr>\n",
       "      <th>unixtime</th>\n",
       "      <th></th>\n",
       "    </tr>\n",
       "  </thead>\n",
       "  <tbody>\n",
       "    <tr>\n",
       "      <th>1520590560</th>\n",
       "      <td>8604.5</td>\n",
       "    </tr>\n",
       "    <tr>\n",
       "      <th>1520590620</th>\n",
       "      <td>8627.5</td>\n",
       "    </tr>\n",
       "    <tr>\n",
       "      <th>1520590680</th>\n",
       "      <td>8645.0</td>\n",
       "    </tr>\n",
       "  </tbody>\n",
       "</table>\n",
       "</div>"
      ],
      "text/plain": [
       "             close\n",
       "unixtime          \n",
       "1520590560  8604.5\n",
       "1520590620  8627.5\n",
       "1520590680  8645.0"
      ]
     },
     "execution_count": 165,
     "metadata": {},
     "output_type": "execute_result"
    }
   ],
   "source": [
    "dataframe.head(3)"
   ]
  },
  {
   "cell_type": "code",
   "execution_count": 166,
   "metadata": {},
   "outputs": [
    {
     "data": {
      "text/html": [
       "<div>\n",
       "<style>\n",
       "    .dataframe thead tr:only-child th {\n",
       "        text-align: right;\n",
       "    }\n",
       "\n",
       "    .dataframe thead th {\n",
       "        text-align: left;\n",
       "    }\n",
       "\n",
       "    .dataframe tbody tr th {\n",
       "        vertical-align: top;\n",
       "    }\n",
       "</style>\n",
       "<table border=\"1\" class=\"dataframe\">\n",
       "  <thead>\n",
       "    <tr style=\"text-align: right;\">\n",
       "      <th></th>\n",
       "      <th>close</th>\n",
       "    </tr>\n",
       "    <tr>\n",
       "      <th>unixtime</th>\n",
       "      <th></th>\n",
       "    </tr>\n",
       "  </thead>\n",
       "  <tbody>\n",
       "    <tr>\n",
       "      <th>1520950500</th>\n",
       "      <td>9044.5</td>\n",
       "    </tr>\n",
       "    <tr>\n",
       "      <th>1520950560</th>\n",
       "      <td>9068.0</td>\n",
       "    </tr>\n",
       "    <tr>\n",
       "      <th>1520950620</th>\n",
       "      <td>9080.0</td>\n",
       "    </tr>\n",
       "  </tbody>\n",
       "</table>\n",
       "</div>"
      ],
      "text/plain": [
       "             close\n",
       "unixtime          \n",
       "1520950500  9044.5\n",
       "1520950560  9068.0\n",
       "1520950620  9080.0"
      ]
     },
     "execution_count": 166,
     "metadata": {},
     "output_type": "execute_result"
    }
   ],
   "source": [
    "dataframe.tail(3)"
   ]
  },
  {
   "cell_type": "code",
   "execution_count": 73,
   "metadata": {},
   "outputs": [
    {
     "data": {
      "text/plain": [
       "array([[ 8604.5],\n",
       "       [ 8627.5],\n",
       "       [ 8645. ],\n",
       "       ..., \n",
       "       [ 9044.5],\n",
       "       [ 9068. ],\n",
       "       [ 9080. ]], dtype=float32)"
      ]
     },
     "execution_count": 73,
     "metadata": {},
     "output_type": "execute_result"
    }
   ],
   "source": [
    "dataset = dataframe.values.astype('float32')\n",
    "dataset"
   ]
  },
  {
   "cell_type": "code",
   "execution_count": 74,
   "metadata": {},
   "outputs": [
    {
     "data": {
      "text/plain": [
       "array([[ 0.11857414],\n",
       "       [ 0.13433838],\n",
       "       [ 0.14633322],\n",
       "       ..., \n",
       "       [ 0.42015076],\n",
       "       [ 0.43625784],\n",
       "       [ 0.44448233]], dtype=float32)"
      ]
     },
     "execution_count": 74,
     "metadata": {},
     "output_type": "execute_result"
    }
   ],
   "source": [
    "from sklearn.preprocessing import MinMaxScaler\n",
    "\n",
    "# 終値を 0 ~ 1 の範囲に正規化する\n",
    "scaler = MinMaxScaler(feature_range=(0, 1))\n",
    "dataset = scaler.fit_transform(dataset)\n",
    "dataset"
   ]
  },
  {
   "cell_type": "code",
   "execution_count": 75,
   "metadata": {},
   "outputs": [
    {
     "data": {
      "text/plain": [
       "(4020, 1980)"
      ]
     },
     "execution_count": 75,
     "metadata": {},
     "output_type": "execute_result"
    }
   ],
   "source": [
    "# 訓練データとテストデータに分割する\n",
    "train_size = int(len(dataset) * 0.67)\n",
    "test_size = len(dataset) - train_size\n",
    "train_size, test_size"
   ]
  },
  {
   "cell_type": "code",
   "execution_count": 76,
   "metadata": {},
   "outputs": [
    {
     "data": {
      "text/plain": [
       "array([[ 0.11857414],\n",
       "       [ 0.13433838],\n",
       "       [ 0.14633322],\n",
       "       ..., \n",
       "       [ 0.7361207 ],\n",
       "       [ 0.74091864],\n",
       "       [ 0.74503088]], dtype=float32)"
      ]
     },
     "execution_count": 76,
     "metadata": {},
     "output_type": "execute_result"
    }
   ],
   "source": [
    "train = dataset[0:train_size,:]\n",
    "test = dataset[train_size:len(dataset),:]\n",
    "train"
   ]
  },
  {
   "cell_type": "code",
   "execution_count": 77,
   "metadata": {},
   "outputs": [
    {
     "data": {
      "text/plain": [
       "array([[ 0.75736809],\n",
       "       [ 0.75359821],\n",
       "       [ 0.75325584],\n",
       "       ..., \n",
       "       [ 0.42015076],\n",
       "       [ 0.43625784],\n",
       "       [ 0.44448233]], dtype=float32)"
      ]
     },
     "execution_count": 77,
     "metadata": {},
     "output_type": "execute_result"
    }
   ],
   "source": [
    "test"
   ]
  },
  {
   "cell_type": "code",
   "execution_count": 127,
   "metadata": {
    "collapsed": true
   },
   "outputs": [],
   "source": [
    "import numpy as np\n",
    "\n",
    "def create_dataset(dataset, look_back=1):\n",
    "    data_x, data_y = [], []\n",
    "    for i in range(len(dataset) - look_back):\n",
    "        data_x.append(dataset[i:(i + look_back), 0])\n",
    "        data_y.append(dataset[i + look_back, 0])\n",
    "    return np.array(data_x), np.array(data_y)"
   ]
  },
  {
   "cell_type": "code",
   "execution_count": 129,
   "metadata": {},
   "outputs": [
    {
     "data": {
      "text/plain": [
       "array([[ 0.11857414,  0.13433838,  0.14633322],\n",
       "       [ 0.13433838,  0.14633322,  0.18163109],\n",
       "       [ 0.14633322,  0.18163109,  0.20253611],\n",
       "       ..., \n",
       "       [ 0.73132277,  0.74160385,  0.73440695],\n",
       "       [ 0.74160385,  0.73440695,  0.7361207 ],\n",
       "       [ 0.73440695,  0.7361207 ,  0.74091864]], dtype=float32)"
      ]
     },
     "execution_count": 129,
     "metadata": {},
     "output_type": "execute_result"
    }
   ],
   "source": [
    "look_back = 3\n",
    "train_x, train_y = create_dataset(train, look_back)\n",
    "train_x"
   ]
  },
  {
   "cell_type": "code",
   "execution_count": 130,
   "metadata": {},
   "outputs": [
    {
     "data": {
      "text/plain": [
       "(4017, 3)"
      ]
     },
     "execution_count": 130,
     "metadata": {},
     "output_type": "execute_result"
    }
   ],
   "source": [
    "train_x.shape"
   ]
  },
  {
   "cell_type": "code",
   "execution_count": 131,
   "metadata": {},
   "outputs": [
    {
     "data": {
      "text/plain": [
       "array([ 0.18163109,  0.20253611,  0.18026018, ...,  0.7361207 ,\n",
       "        0.74091864,  0.74503088], dtype=float32)"
      ]
     },
     "execution_count": 131,
     "metadata": {},
     "output_type": "execute_result"
    }
   ],
   "source": [
    "train_y"
   ]
  },
  {
   "cell_type": "code",
   "execution_count": 132,
   "metadata": {
    "collapsed": true
   },
   "outputs": [],
   "source": [
    "test_x, test_y = create_dataset(test, look_back)"
   ]
  },
  {
   "cell_type": "code",
   "execution_count": 133,
   "metadata": {},
   "outputs": [
    {
     "data": {
      "text/plain": [
       "(4017, 3, 1)"
      ]
     },
     "execution_count": 133,
     "metadata": {},
     "output_type": "execute_result"
    }
   ],
   "source": [
    "train_x = np.reshape(train_x, (train_x.shape[0], train_x.shape[1], 1))\n",
    "train_x.shape"
   ]
  },
  {
   "cell_type": "code",
   "execution_count": 134,
   "metadata": {},
   "outputs": [
    {
     "data": {
      "text/plain": [
       "array([[[ 0.11857414],\n",
       "        [ 0.13433838],\n",
       "        [ 0.14633322]],\n",
       "\n",
       "       [[ 0.13433838],\n",
       "        [ 0.14633322],\n",
       "        [ 0.18163109]],\n",
       "\n",
       "       [[ 0.14633322],\n",
       "        [ 0.18163109],\n",
       "        [ 0.20253611]],\n",
       "\n",
       "       ..., \n",
       "       [[ 0.73132277],\n",
       "        [ 0.74160385],\n",
       "        [ 0.73440695]],\n",
       "\n",
       "       [[ 0.74160385],\n",
       "        [ 0.73440695],\n",
       "        [ 0.7361207 ]],\n",
       "\n",
       "       [[ 0.73440695],\n",
       "        [ 0.7361207 ],\n",
       "        [ 0.74091864]]], dtype=float32)"
      ]
     },
     "execution_count": 134,
     "metadata": {},
     "output_type": "execute_result"
    }
   ],
   "source": [
    "train_x"
   ]
  },
  {
   "cell_type": "code",
   "execution_count": 135,
   "metadata": {},
   "outputs": [
    {
     "data": {
      "text/plain": [
       "(4017,)"
      ]
     },
     "execution_count": 135,
     "metadata": {},
     "output_type": "execute_result"
    }
   ],
   "source": [
    "train_y.shape"
   ]
  },
  {
   "cell_type": "code",
   "execution_count": 136,
   "metadata": {},
   "outputs": [
    {
     "data": {
      "text/plain": [
       "(1977, 3, 1)"
      ]
     },
     "execution_count": 136,
     "metadata": {},
     "output_type": "execute_result"
    }
   ],
   "source": [
    "test_x = np.reshape(test_x, (test_x.shape[0], test_x.shape[1], 1))\n",
    "test_x.shape"
   ]
  },
  {
   "cell_type": "code",
   "execution_count": 137,
   "metadata": {
    "collapsed": true
   },
   "outputs": [],
   "source": [
    "# モデル構築 SimpleRNN\n",
    "\n",
    "from keras.models import Sequential\n",
    "from keras.layers import Dense, Activation, SimpleRNN"
   ]
  },
  {
   "cell_type": "code",
   "execution_count": 138,
   "metadata": {
    "collapsed": true
   },
   "outputs": [],
   "source": [
    "hid_dim = 10\n",
    "model = Sequential()\n",
    "# input_shape = (系列長T, x_tの次元)\n",
    "# output_shape = (系列長T, units(=hid_dim))\n",
    "model.add(SimpleRNN(hid_dim, input_shape=(look_back, 1)))\n",
    "model.add(Dense(1))\n",
    "model.compile(loss='mean_squared_error', optimizer='adam')"
   ]
  },
  {
   "cell_type": "code",
   "execution_count": 139,
   "metadata": {},
   "outputs": [
    {
     "name": "stdout",
     "output_type": "stream",
     "text": [
      "Epoch 1/30\n",
      " - 6s - loss: 0.0030\n",
      "Epoch 2/30\n",
      " - 5s - loss: 2.7029e-04\n",
      "Epoch 3/30\n",
      " - 6s - loss: 2.1485e-04\n",
      "Epoch 4/30\n",
      " - 6s - loss: 2.1358e-04\n",
      "Epoch 5/30\n",
      " - 6s - loss: 2.0927e-04\n",
      "Epoch 6/30\n",
      " - 6s - loss: 2.1204e-04\n",
      "Epoch 7/30\n",
      " - 5s - loss: 2.0974e-04\n",
      "Epoch 8/30\n",
      " - 5s - loss: 1.9610e-04\n",
      "Epoch 9/30\n",
      " - 6s - loss: 1.9789e-04\n",
      "Epoch 10/30\n",
      " - 6s - loss: 1.9967e-04\n",
      "Epoch 11/30\n",
      " - 5s - loss: 1.8952e-04\n",
      "Epoch 12/30\n",
      " - 5s - loss: 1.9200e-04\n",
      "Epoch 13/30\n",
      " - 5s - loss: 1.8642e-04\n",
      "Epoch 14/30\n",
      " - 5s - loss: 1.8928e-04\n",
      "Epoch 15/30\n",
      " - 5s - loss: 1.8466e-04\n",
      "Epoch 16/30\n",
      " - 5s - loss: 1.8425e-04\n",
      "Epoch 17/30\n",
      " - 5s - loss: 1.8841e-04\n",
      "Epoch 18/30\n",
      " - 6s - loss: 1.8438e-04\n",
      "Epoch 19/30\n",
      " - 6s - loss: 1.8170e-04\n",
      "Epoch 20/30\n",
      " - 6s - loss: 1.8414e-04\n",
      "Epoch 21/30\n",
      " - 6s - loss: 1.8714e-04\n",
      "Epoch 22/30\n",
      " - 6s - loss: 1.8184e-04\n",
      "Epoch 23/30\n",
      " - 5s - loss: 1.8642e-04\n",
      "Epoch 24/30\n",
      " - 6s - loss: 1.8474e-04\n",
      "Epoch 25/30\n",
      " - 6s - loss: 1.8452e-04\n",
      "Epoch 26/30\n",
      " - 6s - loss: 1.7883e-04\n",
      "Epoch 27/30\n",
      " - 5s - loss: 1.8301e-04\n",
      "Epoch 28/30\n",
      " - 5s - loss: 1.8535e-04\n",
      "Epoch 29/30\n",
      " - 5s - loss: 1.8011e-04\n",
      "Epoch 30/30\n",
      " - 5s - loss: 1.8511e-04\n"
     ]
    },
    {
     "data": {
      "text/plain": [
       "<keras.callbacks.History at 0x1a2472c7f0>"
      ]
     },
     "execution_count": 139,
     "metadata": {},
     "output_type": "execute_result"
    }
   ],
   "source": [
    "model.fit(train_x, train_y, epochs=30, batch_size=1, verbose=2)"
   ]
  },
  {
   "cell_type": "code",
   "execution_count": 145,
   "metadata": {},
   "outputs": [
    {
     "data": {
      "text/plain": [
       "array([[[ 0.75736809],\n",
       "        [ 0.75359821],\n",
       "        [ 0.75325584]],\n",
       "\n",
       "       [[ 0.75359821],\n",
       "        [ 0.75325584],\n",
       "        [ 0.75257015]],\n",
       "\n",
       "       [[ 0.75325584],\n",
       "        [ 0.75257015],\n",
       "        [ 0.752913  ]],\n",
       "\n",
       "       ..., \n",
       "       [[ 0.4482522 ],\n",
       "        [ 0.45373535],\n",
       "        [ 0.43968487]],\n",
       "\n",
       "       [[ 0.45373535],\n",
       "        [ 0.43968487],\n",
       "        [ 0.42015076]],\n",
       "\n",
       "       [[ 0.43968487],\n",
       "        [ 0.42015076],\n",
       "        [ 0.43625784]]], dtype=float32)"
      ]
     },
     "execution_count": 145,
     "metadata": {},
     "output_type": "execute_result"
    }
   ],
   "source": [
    "# 予測の精度を平均二乗誤差平方根（RMSE）で評価する\n",
    "\n",
    "import math\n",
    "from sklearn.metrics import mean_squared_error\n",
    "\n",
    "# 訓練データとテストデータに対する予測\n",
    "train_predict = model.predict(train_x)\n",
    "test_predict = model.predict(test_x)\n",
    "\n",
    "len(train_predict), len(test_predict)"
   ]
  },
  {
   "cell_type": "code",
   "execution_count": 141,
   "metadata": {},
   "outputs": [
    {
     "name": "stdout",
     "output_type": "stream",
     "text": [
      "Train RMSE: 19.69\n",
      "Test RMSE: 23.67\n"
     ]
    }
   ],
   "source": [
    "# 正規化を元に戻す\n",
    "train_predict_inv = scaler.inverse_transform(train_predict)\n",
    "train_y_inv = scaler.inverse_transform([train_y])\n",
    "test_predict_inv = scaler.inverse_transform(test_predict)\n",
    "test_y_inv = scaler.inverse_transform([test_y])\n",
    "\n",
    "# 平均二乗誤差のルートで評価\n",
    "train_score = math.sqrt(mean_squared_error(train_y_inv[0], train_predict_inv[:,0]))\n",
    "print('Train RMSE: %.2f' % (train_score))\n",
    "test_score = math.sqrt(mean_squared_error(test_y_inv[0], test_predict_inv[:,0]))\n",
    "print('Test RMSE: %.2f' % (test_score))"
   ]
  },
  {
   "cell_type": "code",
   "execution_count": 144,
   "metadata": {},
   "outputs": [
    {
     "data": {
      "image/png": "[encoded data removed]",
      "text/plain": [
       "<matplotlib.figure.Figure at 0x1a22a543c8>"
      ]
     },
     "metadata": {},
     "output_type": "display_data"
    },
    {
     "data": {
      "text/plain": [
       "1977"
      ]
     },
     "execution_count": 144,
     "metadata": {},
     "output_type": "execute_result"
    }
   ],
   "source": [
    "import matplotlib.pyplot as plt\n",
    "\n",
    "# 訓練データ部分の予測データ\n",
    "train_predict_plot = np.empty_like(dataset)\n",
    "train_predict_plot[:, :] = np.nan\n",
    "train_predict_plot[look_back:len(train_predict_inv)+look_back, :] = train_predict_inv\n",
    "\n",
    "# テストデータ部分の予測データ\n",
    "test_predict_plot = np.empty_like(dataset)\n",
    "test_predict_plot[:, :] = np.nan\n",
    "test_predict_plot[len(train_predict_inv)+(look_back*2):len(dataset), :] = test_predict_inv\n",
    "\n",
    "plt.plot(scaler.inverse_transform(dataset), label='Dataset')\n",
    "plt.plot(train_predict_plot, label='Prediction under train data')\n",
    "plt.plot(test_predict_plot, label='Prediction under test data')\n",
    "plt.legend()\n",
    "plt.show()"
   ]
  },
  {
   "cell_type": "code",
   "execution_count": 154,
   "metadata": {},
   "outputs": [
    {
     "data": {
      "text/plain": [
       "array([[[ 0.4482522 ],\n",
       "        [ 0.45373535],\n",
       "        [ 0.43968487]],\n",
       "\n",
       "       [[ 0.45373535],\n",
       "        [ 0.43968487],\n",
       "        [ 0.42015076]],\n",
       "\n",
       "       [[ 0.43968487],\n",
       "        [ 0.42015076],\n",
       "        [ 0.43625784]]], dtype=float32)"
      ]
     },
     "execution_count": 154,
     "metadata": {},
     "output_type": "execute_result"
    }
   ],
   "source": [
    "# 最後のデータを使って次の値を予測する\n",
    "latest_x = test_x[-look_back:]\n",
    "latest_x"
   ]
  },
  {
   "cell_type": "code",
   "execution_count": 161,
   "metadata": {},
   "outputs": [],
   "source": [
    "next_prediction = model.predict(latest_x)\n",
    "next_prediction_inv = scaler.inverse_transform(next_prediction)"
   ]
  },
  {
   "cell_type": "code",
   "execution_count": 167,
   "metadata": {},
   "outputs": [
    {
     "data": {
      "text/plain": [
       "9068.2256"
      ]
     },
     "execution_count": 167,
     "metadata": {},
     "output_type": "execute_result"
    }
   ],
   "source": [
    "# 次の値\n",
    "# 実際の値は 9071.5\n",
    "next_prediction_inv[0][0]"
   ]
  },
  {
   "cell_type": "code",
   "execution_count": 178,
   "metadata": {},
   "outputs": [
    {
     "data": {
      "text/plain": [
       "9080.0"
      ]
     },
     "execution_count": 178,
     "metadata": {},
     "output_type": "execute_result"
    }
   ],
   "source": [
    "# 直前の値\n",
    "dataframe['close'].iloc[-1]"
   ]
  }
 ],
 "metadata": {
  "kernelspec": {
   "display_name": "Python 3",
   "language": "python",
   "name": "python3"
  },
  "language_info": {
   "codemirror_mode": {
    "name": "ipython",
    "version": 3
   },
   "file_extension": ".py",
   "mimetype": "text/x-python",
   "name": "python",
   "nbconvert_exporter": "python",
   "pygments_lexer": "ipython3",
   "version": "3.6.3"
  }
 },
 "nbformat": 4,
 "nbformat_minor": 2
}
